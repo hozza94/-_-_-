{
  "nbformat": 4,
  "nbformat_minor": 0,
  "metadata": {
    "orig_nbformat": 4,
    "language_info": {
      "name": "python",
      "version": "3.8.2",
      "mimetype": "text/x-python",
      "codemirror_mode": {
        "name": "ipython",
        "version": 3
      },
      "pygments_lexer": "ipython3",
      "nbconvert_exporter": "python",
      "file_extension": ".py"
    },
    "kernelspec": {
      "name": "python3",
      "display_name": "Python 3.8.2 64-bit ('base': conda)"
    },
    "interpreter": {
      "hash": "dca0ade3e726a953b501b15e8e990130d2b7799f14cfd9f4271676035ebe5511"
    },
    "colab": {
      "name": "0930_인원수예측 + gridsearch_랜덤포레스트.ipynb",
      "provenance": [],
      "collapsed_sections": []
    }
  },
  "cells": [
    {
      "cell_type": "markdown",
      "metadata": {
        "id": "nGYtgpSSO5I3"
      },
      "source": [
        "# 예측"
      ]
    },
    {
      "cell_type": "markdown",
      "metadata": {
        "id": "MGt-v4K1O5I6"
      },
      "source": [
        "## 메모리 변수 제거"
      ]
    },
    {
      "cell_type": "code",
      "metadata": {
        "id": "j1aTq_cQO5I8"
      },
      "source": [
        "# 메모리 변수 모두 제거\n",
        "all = [var for var in globals() if var[0] != \"_\"]\n",
        "for var in all:\n",
        "    del globals()[var]"
      ],
      "execution_count": 1,
      "outputs": []
    },
    {
      "cell_type": "markdown",
      "metadata": {
        "id": "pMizorXFO5I-"
      },
      "source": [
        "## 사용 패키지"
      ]
    },
    {
      "cell_type": "code",
      "metadata": {
        "id": "ty9iLsoBO5I_"
      },
      "source": [
        "import numpy as np\n",
        "import pandas as pd\n",
        "import seaborn as sns\n",
        "import matplotlib.pyplot as plt\n",
        "%matplotlib inline\n",
        "# plt.rc('font', family = 'Malgun Gothic') # WINDOWS\n",
        "plt.rc('font', family = 'AppleGothic') # MAC\n",
        "plt.rc('axes', unicode_minus = False)\n",
        "import warnings\n",
        "warnings.filterwarnings('ignore')"
      ],
      "execution_count": 2,
      "outputs": []
    },
    {
      "cell_type": "markdown",
      "metadata": {
        "id": "dNdzf7gsO5JA"
      },
      "source": [
        "## 데이터 로드\n",
        "- 전처리 완료된 데이터"
      ]
    },
    {
      "cell_type": "code",
      "metadata": {
        "id": "yks47EIXO5JB"
      },
      "source": [
        "train = pd.read_csv('/data/train_pre.csv')\n",
        "test = pd.read_csv('/data/test_pre.csv')\n",
        "submission = pd.read_csv('/data/sample_submission.csv')"
      ],
      "execution_count": 3,
      "outputs": []
    },
    {
      "cell_type": "markdown",
      "metadata": {
        "id": "QGCCCE1HO5JD"
      },
      "source": [
        "### Train\n",
        "- 년 : \n",
        "- 월 : \n",
        "- 일 : \n",
        "- 요일 : 월, 화, 수, 목, 금 -> 0, 1, 2, 3, 4\n",
        "- 휴일전날 : True or False\n",
        "- 식사가능자수 : 총 인원 중 휴가자, 재택근무자를 제외한 식사 가능한 인원 수\n",
        "- 중식계 : 점심 식사 이용한 인원\n",
        "- 석식계 : 저녁 식사 이용한 인원\n",
        "- 중식참여율 : (중식계) / (식사가능자수)\n",
        "- 석식참여율 : (석식계) / (식사가능자수)"
      ]
    },
    {
      "cell_type": "code",
      "metadata": {
        "id": "LC0mTZuWO5JF",
        "colab": {
          "base_uri": "https://localhost:8080/"
        },
        "outputId": "634487a7-15c9-455b-d435-47a19dd9da03"
      },
      "source": [
        "train.info()"
      ],
      "execution_count": 4,
      "outputs": [
        {
          "output_type": "stream",
          "name": "stdout",
          "text": [
            "<class 'pandas.core.frame.DataFrame'>\n",
            "RangeIndex: 1205 entries, 0 to 1204\n",
            "Data columns (total 10 columns):\n",
            " #   Column  Non-Null Count  Dtype  \n",
            "---  ------  --------------  -----  \n",
            " 0   년       1205 non-null   int64  \n",
            " 1   월       1205 non-null   int64  \n",
            " 2   일       1205 non-null   int64  \n",
            " 3   요일      1205 non-null   int64  \n",
            " 4   휴일전날    1205 non-null   bool   \n",
            " 5   식사가능자수  1205 non-null   int64  \n",
            " 6   중식계     1205 non-null   int64  \n",
            " 7   석식계     1205 non-null   int64  \n",
            " 8   중식참여율   1205 non-null   float64\n",
            " 9   석식참여율   1205 non-null   float64\n",
            "dtypes: bool(1), float64(2), int64(7)\n",
            "memory usage: 86.0 KB\n"
          ]
        }
      ]
    },
    {
      "cell_type": "markdown",
      "metadata": {
        "id": "5T5vKwHQO5JH"
      },
      "source": [
        "### Test\n",
        "- 년 : \n",
        "- 월 : \n",
        "- 일 : \n",
        "- 요일 : 월, 화, 수, 목, 금 -> 0, 1, 2, 3, 4\n",
        "- 휴일전날 : True or False\n",
        "- 식사가능자수 : 총 인원 중 휴가자, 재택근무자를 제외한 식사 가능한 인원 수"
      ]
    },
    {
      "cell_type": "code",
      "metadata": {
        "id": "tKBLO3iQO5JI",
        "colab": {
          "base_uri": "https://localhost:8080/"
        },
        "outputId": "e5f6ce29-7cc6-492b-9bf6-718cc611adab"
      },
      "source": [
        "test.info()"
      ],
      "execution_count": 5,
      "outputs": [
        {
          "output_type": "stream",
          "name": "stdout",
          "text": [
            "<class 'pandas.core.frame.DataFrame'>\n",
            "RangeIndex: 50 entries, 0 to 49\n",
            "Data columns (total 6 columns):\n",
            " #   Column  Non-Null Count  Dtype\n",
            "---  ------  --------------  -----\n",
            " 0   년       50 non-null     int64\n",
            " 1   월       50 non-null     int64\n",
            " 2   일       50 non-null     int64\n",
            " 3   요일      50 non-null     int64\n",
            " 4   휴일전날    50 non-null     bool \n",
            " 5   식사가능자수  50 non-null     int64\n",
            "dtypes: bool(1), int64(5)\n",
            "memory usage: 2.1 KB\n"
          ]
        }
      ]
    },
    {
      "cell_type": "markdown",
      "metadata": {
        "id": "B0My4kf3O5JJ"
      },
      "source": [
        "### Submission\n",
        "- 일자 : 년-월-일\n",
        "- 중식계 : 점심 식사 이용한 인원\n",
        "- 석식계 : 저녁 식사 이용한 인원"
      ]
    },
    {
      "cell_type": "code",
      "metadata": {
        "id": "thpr3hbCO5JK",
        "colab": {
          "base_uri": "https://localhost:8080/"
        },
        "outputId": "fae7efd4-e516-4d0d-dac9-d2ef539ac3b1"
      },
      "source": [
        "submission.info()"
      ],
      "execution_count": 6,
      "outputs": [
        {
          "output_type": "stream",
          "name": "stdout",
          "text": [
            "<class 'pandas.core.frame.DataFrame'>\n",
            "RangeIndex: 50 entries, 0 to 49\n",
            "Data columns (total 3 columns):\n",
            " #   Column  Non-Null Count  Dtype \n",
            "---  ------  --------------  ----- \n",
            " 0   일자      50 non-null     object\n",
            " 1   중식계     50 non-null     int64 \n",
            " 2   석식계     50 non-null     int64 \n",
            "dtypes: int64(2), object(1)\n",
            "memory usage: 1.3+ KB\n"
          ]
        }
      ]
    },
    {
      "cell_type": "markdown",
      "metadata": {
        "id": "-mukVyqcO5JL"
      },
      "source": [
        "## 상관계수"
      ]
    },
    {
      "cell_type": "code",
      "metadata": {
        "id": "snuo0GvYO5JL",
        "colab": {
          "base_uri": "https://localhost:8080/",
          "height": 359
        },
        "outputId": "60a20f79-2903-465c-940f-28aa0e1ad527"
      },
      "source": [
        "train.corr()[['중식계', '석식계']]"
      ],
      "execution_count": 7,
      "outputs": [
        {
          "output_type": "execute_result",
          "data": {
            "text/html": [
              "<div>\n",
              "<style scoped>\n",
              "    .dataframe tbody tr th:only-of-type {\n",
              "        vertical-align: middle;\n",
              "    }\n",
              "\n",
              "    .dataframe tbody tr th {\n",
              "        vertical-align: top;\n",
              "    }\n",
              "\n",
              "    .dataframe thead th {\n",
              "        text-align: right;\n",
              "    }\n",
              "</style>\n",
              "<table border=\"1\" class=\"dataframe\">\n",
              "  <thead>\n",
              "    <tr style=\"text-align: right;\">\n",
              "      <th></th>\n",
              "      <th>중식계</th>\n",
              "      <th>석식계</th>\n",
              "    </tr>\n",
              "  </thead>\n",
              "  <tbody>\n",
              "    <tr>\n",
              "      <th>년</th>\n",
              "      <td>-0.078804</td>\n",
              "      <td>-0.194792</td>\n",
              "    </tr>\n",
              "    <tr>\n",
              "      <th>월</th>\n",
              "      <td>-0.154664</td>\n",
              "      <td>-0.127142</td>\n",
              "    </tr>\n",
              "    <tr>\n",
              "      <th>일</th>\n",
              "      <td>-0.097392</td>\n",
              "      <td>-0.185565</td>\n",
              "    </tr>\n",
              "    <tr>\n",
              "      <th>요일</th>\n",
              "      <td>-0.734273</td>\n",
              "      <td>-0.313240</td>\n",
              "    </tr>\n",
              "    <tr>\n",
              "      <th>휴일전날</th>\n",
              "      <td>-0.170249</td>\n",
              "      <td>-0.193838</td>\n",
              "    </tr>\n",
              "    <tr>\n",
              "      <th>식사가능자수</th>\n",
              "      <td>0.151029</td>\n",
              "      <td>0.118615</td>\n",
              "    </tr>\n",
              "    <tr>\n",
              "      <th>중식계</th>\n",
              "      <td>1.000000</td>\n",
              "      <td>0.508287</td>\n",
              "    </tr>\n",
              "    <tr>\n",
              "      <th>석식계</th>\n",
              "      <td>0.508287</td>\n",
              "      <td>1.000000</td>\n",
              "    </tr>\n",
              "    <tr>\n",
              "      <th>중식참여율</th>\n",
              "      <td>0.957156</td>\n",
              "      <td>0.475360</td>\n",
              "    </tr>\n",
              "    <tr>\n",
              "      <th>석식참여율</th>\n",
              "      <td>0.479768</td>\n",
              "      <td>0.973722</td>\n",
              "    </tr>\n",
              "  </tbody>\n",
              "</table>\n",
              "</div>"
            ],
            "text/plain": [
              "             중식계       석식계\n",
              "년      -0.078804 -0.194792\n",
              "월      -0.154664 -0.127142\n",
              "일      -0.097392 -0.185565\n",
              "요일     -0.734273 -0.313240\n",
              "휴일전날   -0.170249 -0.193838\n",
              "식사가능자수  0.151029  0.118615\n",
              "중식계     1.000000  0.508287\n",
              "석식계     0.508287  1.000000\n",
              "중식참여율   0.957156  0.475360\n",
              "석식참여율   0.479768  0.973722"
            ]
          },
          "metadata": {},
          "execution_count": 7
        }
      ]
    },
    {
      "cell_type": "markdown",
      "metadata": {
        "id": "7sTDC9KFO5JN"
      },
      "source": [
        "## 머신러닝 모델"
      ]
    },
    {
      "cell_type": "markdown",
      "metadata": {
        "id": "OyFEgJMkO5JN"
      },
      "source": [
        "### Train, Test 분할"
      ]
    },
    {
      "cell_type": "code",
      "metadata": {
        "id": "QN5ELMcoO5JN"
      },
      "source": [
        "X_train = train[['요일', '휴일전날', '식사가능자수']]\n",
        "X_test = test[['요일', '휴일전날', '식사가능자수']]\n",
        "y1_train = train['중식계']\n",
        "y2_train = train['석식계']"
      ],
      "execution_count": 8,
      "outputs": []
    },
    {
      "cell_type": "markdown",
      "metadata": {
        "id": "5OS57P8xO5JO"
      },
      "source": [
        "### Light GBM"
      ]
    },
    {
      "cell_type": "code",
      "metadata": {
        "id": "Iw09i8gAO5JO"
      },
      "source": [
        "import lightgbm as lgb\n",
        "# LGBM Regressor\n",
        "lgbm = lgb.LGBMRegressor(random_state = 2021)\n",
        "# 중식 모델 학습\n",
        "lgbm.fit(X_train, y1_train)\n",
        "# 중식 인원 예측값 생성\n",
        "y1_test = lgbm.predict(X_test)\n",
        "# 석식 모델 학습\n",
        "lgbm.fit(X_train, y2_train)\n",
        "# 석식 인원 예측값 생성\n",
        "y2_test = lgbm.predict(X_test)"
      ],
      "execution_count": 9,
      "outputs": []
    },
    {
      "cell_type": "code",
      "metadata": {
        "id": "gZ8xMUBOO5JP",
        "colab": {
          "base_uri": "https://localhost:8080/"
        },
        "outputId": "ac8894d5-113a-4d1e-bf0f-9619a6bbe298"
      },
      "source": [
        "y1_test # 중식 인원 예측 결과 - Light GBM"
      ],
      "execution_count": 10,
      "outputs": [
        {
          "output_type": "execute_result",
          "data": {
            "text/plain": [
              "array([ 876.62980857,  842.18917382,  587.5614592 , 1120.80494413,\n",
              "        898.16452871,  927.11971143,  835.48497449,  751.54679846,\n",
              "       1189.63233243, 1056.44764811,  661.08494489, 1126.12404872,\n",
              "       1013.14523696,  933.61577705,  867.89907569,  711.07505955,\n",
              "       1243.06910011,  931.74733292,  941.13051857,  844.4154167 ,\n",
              "        660.05889782,  992.86025242,  943.29996006,  795.79718564,\n",
              "        621.16004217, 1173.57204875,  936.43534399,  943.29996006,\n",
              "        936.62717419,  650.86413025, 1160.1719282 , 1056.44764811,\n",
              "        951.23801879,  811.01081635,  723.7293946 , 1120.80494413,\n",
              "       1000.20961694,  969.87519508,  852.00339019,  756.04208399,\n",
              "       1142.05907661,  952.28782091,  985.67749228,  876.97814735,\n",
              "        657.58674838, 1195.9788161 ,  978.395935  ,  940.26750845,\n",
              "        851.79417932,  668.33441731])"
            ]
          },
          "metadata": {},
          "execution_count": 10
        }
      ]
    },
    {
      "cell_type": "code",
      "metadata": {
        "id": "gMBzn1xbO5JP",
        "colab": {
          "base_uri": "https://localhost:8080/"
        },
        "outputId": "5352b27c-f518-4d1f-97c4-77b7878106ee"
      },
      "source": [
        "y2_test # 석식 인원 예측 결과 - Light GBM"
      ],
      "execution_count": 11,
      "outputs": [
        {
          "output_type": "execute_result",
          "data": {
            "text/plain": [
              "array([363.53769457, 459.83893671, 345.06448152, 463.02192033,\n",
              "       507.19055675, 433.03053364, 472.3600569 , 406.65018401,\n",
              "       523.2062813 , 483.40059913, 230.49218599, 443.09226774,\n",
              "       617.07745928, 323.50064495, 437.69919543, 440.2671964 ,\n",
              "       589.86919895, 513.34450515, 419.69262529, 523.59293467,\n",
              "       435.02223044, 559.160531  , 450.64614457, 468.24684945,\n",
              "       429.02284047, 584.05520712, 486.24997061, 450.64614457,\n",
              "       453.38006835, 436.64387756, 553.22065769, 483.40059913,\n",
              "       480.75393057, 475.10536235, 486.78303275, 524.97204241,\n",
              "       571.02324216, 358.94301011, 467.06394818, 419.89570711,\n",
              "       550.80623607, 524.77071856, 355.68174752, 486.9346022 ,\n",
              "       441.56815955, 596.95360156, 530.77903826, 394.52936644,\n",
              "       472.99430408, 479.51627867])"
            ]
          },
          "metadata": {},
          "execution_count": 11
        }
      ]
    },
    {
      "cell_type": "markdown",
      "metadata": {
        "id": "fAgKCgRaO5JQ"
      },
      "source": [
        "### Random Forest"
      ]
    },
    {
      "cell_type": "code",
      "metadata": {
        "id": "ZBn0own_O5JQ"
      },
      "source": [
        "from sklearn.ensemble import RandomForestRegressor\n",
        "# Random Forest Regressor\n",
        "rfr = RandomForestRegressor(random_state = 2021)\n",
        "# 중식 모델 학습\n",
        "rfr.fit(X_train, y1_train)\n",
        "# 중식 인원 예측값 생성\n",
        "y3_test = rfr.predict(X_test)\n",
        "# 석식 모델 학습\n",
        "rfr.fit(X_train, y2_train)\n",
        "# 석식 인원 예측값 생성\n",
        "y4_test = rfr.predict(X_test)"
      ],
      "execution_count": 12,
      "outputs": []
    },
    {
      "cell_type": "code",
      "metadata": {
        "id": "VL9cuBcrO5JQ",
        "colab": {
          "base_uri": "https://localhost:8080/"
        },
        "outputId": "90330e49-39d7-420d-ea59-21ebce70b693"
      },
      "source": [
        "y3_test # 중식 인원 예측 결과 - Random Forest"
      ],
      "execution_count": 13,
      "outputs": [
        {
          "output_type": "execute_result",
          "data": {
            "text/plain": [
              "array([ 831.33      ,  881.91      ,  559.        , 1103.21      ,\n",
              "        931.62      ,  925.43766667,  859.60916667,  753.68233333,\n",
              "       1253.54183333,  938.02      ,  784.6       , 1054.38      ,\n",
              "       1052.29      ,  943.01      ,  892.20866667,  755.1125    ,\n",
              "       1206.579     ,  851.98      , 1002.71      ,  820.25933333,\n",
              "        654.682     , 1072.13614683,  951.45390476,  821.31833333,\n",
              "        706.20083333, 1156.32      ,  937.54      ,  951.45390476,\n",
              "        940.285     ,  733.84033333, 1197.30670094,  986.53      ,\n",
              "       1042.05      ,  773.00409524,  702.51333333, 1103.21      ,\n",
              "        974.18      ,  982.02964286,  835.21066667,  572.01228571,\n",
              "       1172.91583189,  960.3825    , 1021.86815476,  837.84338492,\n",
              "        605.73333333, 1185.5105    ,  953.26114286,  982.01      ,\n",
              "        853.91      ,  652.406     ])"
            ]
          },
          "metadata": {},
          "execution_count": 13
        }
      ]
    },
    {
      "cell_type": "code",
      "metadata": {
        "id": "BxVp-9NjO5JR",
        "colab": {
          "base_uri": "https://localhost:8080/"
        },
        "outputId": "84033b52-ab4c-421b-90ab-0599f055fa1e"
      },
      "source": [
        "y4_test # 석식 인원 예측 결과 - Random Forest\n"
      ],
      "execution_count": 14,
      "outputs": [
        {
          "output_type": "execute_result",
          "data": {
            "text/plain": [
              "array([244.89      , 565.89      , 420.07      , 512.36      ,\n",
              "       486.81166667, 485.89316667, 455.46916667, 462.374     ,\n",
              "       510.92583333, 459.35      , 213.06      , 434.47      ,\n",
              "       610.95      , 308.9       , 463.49466667, 480.58511905,\n",
              "       583.85633333, 493.02      , 514.95      , 532.86666667,\n",
              "       414.41130952, 599.01370635, 458.68152381, 475.34      ,\n",
              "       524.93      , 501.22      , 527.88      , 458.68152381,\n",
              "       542.595     , 484.13630952, 578.59647222, 459.72      ,\n",
              "       410.22      , 465.08771429, 544.1125    , 517.68      ,\n",
              "       628.8       , 318.63778571, 463.438     , 370.1772381 ,\n",
              "       563.67237698, 507.92333333, 267.46416667, 475.16136905,\n",
              "       456.61      , 617.9335    , 484.26152381, 533.53      ,\n",
              "       451.36      , 414.986     ])"
            ]
          },
          "metadata": {},
          "execution_count": 14
        }
      ]
    },
    {
      "cell_type": "markdown",
      "metadata": {
        "id": "EmEe1ecq4aiT"
      },
      "source": [
        "## 중식 인원 예측 랜덤포레스트 (그리드서치 이용)\n",
        "\n"
      ]
    },
    {
      "cell_type": "code",
      "metadata": {
        "id": "vhLLhlB9jca7"
      },
      "source": [
        "from sklearn.model_selection import GridSearchCV\n",
        "param_grid = {\n",
        "    'n_estimators': [100, 150, 200, 250],\n",
        "    'max_depth': [None, 6, 9, 12],\n",
        "    'min_samples_split': [0.01, 0.05, 0.1],\n",
        "    'max_features': ['auto', 'sqrt'],\n",
        "}\n"
      ],
      "execution_count": 15,
      "outputs": []
    },
    {
      "cell_type": "code",
      "metadata": {
        "id": "MovhPDatjcdF"
      },
      "source": [
        "estimator = RandomForestRegressor()"
      ],
      "execution_count": 16,
      "outputs": []
    },
    {
      "cell_type": "code",
      "metadata": {
        "id": "SCUqM_a6jcfN"
      },
      "source": [
        "from sklearn.model_selection import KFold\n",
        "\n",
        "kf = KFold(random_state=30,\n",
        "           n_splits=10,\n",
        "           shuffle=True,\n",
        "          )"
      ],
      "execution_count": 17,
      "outputs": []
    },
    {
      "cell_type": "code",
      "metadata": {
        "colab": {
          "base_uri": "https://localhost:8080/"
        },
        "id": "wSmuA8t3jchN",
        "outputId": "efea2fb1-b7d2-4f52-bef3-8afdf23113a7"
      },
      "source": [
        "grid_search = GridSearchCV(estimator=estimator, \n",
        "                           param_grid=param_grid, \n",
        "                           cv=kf, \n",
        "                           n_jobs=-1, \n",
        "                           verbose=2\n",
        "                          )\n",
        "grid_search.fit(X_train, y1_train)\n"
      ],
      "execution_count": 18,
      "outputs": [
        {
          "output_type": "stream",
          "name": "stdout",
          "text": [
            "Fitting 10 folds for each of 96 candidates, totalling 960 fits\n"
          ]
        },
        {
          "output_type": "stream",
          "name": "stderr",
          "text": [
            "[Parallel(n_jobs=-1)]: Using backend LokyBackend with 2 concurrent workers.\n",
            "[Parallel(n_jobs=-1)]: Done  37 tasks      | elapsed:   12.9s\n",
            "[Parallel(n_jobs=-1)]: Done 158 tasks      | elapsed:   45.2s\n",
            "[Parallel(n_jobs=-1)]: Done 361 tasks      | elapsed:  1.6min\n",
            "[Parallel(n_jobs=-1)]: Done 644 tasks      | elapsed:  2.8min\n",
            "[Parallel(n_jobs=-1)]: Done 960 out of 960 | elapsed:  4.1min finished\n"
          ]
        },
        {
          "output_type": "execute_result",
          "data": {
            "text/plain": [
              "GridSearchCV(cv=KFold(n_splits=10, random_state=30, shuffle=True),\n",
              "             error_score=nan,\n",
              "             estimator=RandomForestRegressor(bootstrap=True, ccp_alpha=0.0,\n",
              "                                             criterion='mse', max_depth=None,\n",
              "                                             max_features='auto',\n",
              "                                             max_leaf_nodes=None,\n",
              "                                             max_samples=None,\n",
              "                                             min_impurity_decrease=0.0,\n",
              "                                             min_impurity_split=None,\n",
              "                                             min_samples_leaf=1,\n",
              "                                             min_samples_split=2,\n",
              "                                             min_weight_fraction_leaf=0.0,\n",
              "                                             n_estimators=100, n_jobs=None,\n",
              "                                             oob_score=False, random_state=None,\n",
              "                                             verbose=0, warm_start=False),\n",
              "             iid='deprecated', n_jobs=-1,\n",
              "             param_grid={'max_depth': [None, 6, 9, 12],\n",
              "                         'max_features': ['auto', 'sqrt'],\n",
              "                         'min_samples_split': [0.01, 0.05, 0.1],\n",
              "                         'n_estimators': [100, 150, 200, 250]},\n",
              "             pre_dispatch='2*n_jobs', refit=True, return_train_score=False,\n",
              "             scoring=None, verbose=2)"
            ]
          },
          "metadata": {},
          "execution_count": 18
        }
      ]
    },
    {
      "cell_type": "code",
      "metadata": {
        "id": "Dc8JI6UgW0xO"
      },
      "source": [
        ""
      ],
      "execution_count": null,
      "outputs": []
    },
    {
      "cell_type": "code",
      "metadata": {
        "colab": {
          "base_uri": "https://localhost:8080/"
        },
        "id": "mHRme_fnjckj",
        "outputId": "1a000918-02c8-40b0-d8ca-d192874e2d9d"
      },
      "source": [
        "grid_search.best_params_"
      ],
      "execution_count": 19,
      "outputs": [
        {
          "output_type": "execute_result",
          "data": {
            "text/plain": [
              "{'max_depth': 6,\n",
              " 'max_features': 'auto',\n",
              " 'min_samples_split': 0.05,\n",
              " 'n_estimators': 250}"
            ]
          },
          "metadata": {},
          "execution_count": 19
        }
      ]
    },
    {
      "cell_type": "code",
      "metadata": {
        "id": "N88hEGpUrjtA"
      },
      "source": [
        "estimator=grid_search.best_estimator_"
      ],
      "execution_count": 20,
      "outputs": []
    },
    {
      "cell_type": "code",
      "metadata": {
        "id": "C78NfK2jUuka"
      },
      "source": [
        "best_model = grid_search.best_estimator_\n",
        "y_predict = best_model.predict(x_test)\n"
      ],
      "execution_count": null,
      "outputs": []
    },
    {
      "cell_type": "code",
      "metadata": {
        "colab": {
          "base_uri": "https://localhost:8080/"
        },
        "id": "IJke7iqKUiOS",
        "outputId": "150bef76-02bf-41be-84b3-77b2cbfaa533"
      },
      "source": [
        "y_predict =estimator.predict(X_test)\n",
        "y_predict1=y_predict.astype(\"int\")\n",
        "y_predict1"
      ],
      "execution_count": 46,
      "outputs": [
        {
          "output_type": "execute_result",
          "data": {
            "text/plain": [
              "array([ 943,  846,  646, 1167,  950,  942,  846,  689, 1174,  952,  765,\n",
              "       1069,  951,  943,  845,  686, 1212,  950,  943,  849,  687,  949,\n",
              "        940,  836,  622, 1206,  950,  940,  886,  688, 1174,  952,  945,\n",
              "        844,  686, 1167,  950,  942,  846,  669, 1174,  950,  943,  845,\n",
              "        686, 1174,  950,  943,  845,  688])"
            ]
          },
          "metadata": {},
          "execution_count": 46
        }
      ]
    },
    {
      "cell_type": "code",
      "metadata": {
        "colab": {
          "base_uri": "https://localhost:8080/"
        },
        "id": "IDqU30MVsh39",
        "outputId": "807a54a1-58b1-4478-c5c0-bc97955d83d3"
      },
      "source": [
        "print(\"최고 평균 정확도: {0:.4f}\".format(grid_search.best_score_))\n",
        "print(\"최고의 파라미터 :\",grid_search.best_params_)"
      ],
      "execution_count": 21,
      "outputs": [
        {
          "output_type": "stream",
          "name": "stdout",
          "text": [
            "최고 평균 정확도: 0.6592\n",
            "최고의 파라미터 : {'max_depth': 6, 'max_features': 'auto', 'min_samples_split': 0.05, 'n_estimators': 250}\n"
          ]
        }
      ]
    },
    {
      "cell_type": "markdown",
      "metadata": {
        "id": "Wof-bKvjW8Ow"
      },
      "source": [
        "## 석식 인원 예측 랜덤포레스트(그리드서치 이용)\n",
        "\n",
        "\n"
      ]
    },
    {
      "cell_type": "code",
      "metadata": {
        "id": "iyoZ88hEXBN1"
      },
      "source": [
        "from sklearn.model_selection import GridSearchCV\n",
        "param_grid = {\n",
        "    'n_estimators': [100, 150, 200, 250],\n",
        "    'max_depth': [None, 6, 9, 12],\n",
        "    'min_samples_split': [0.01, 0.05, 0.1],\n",
        "    'max_features': ['auto', 'sqrt'],\n",
        "}\n"
      ],
      "execution_count": 47,
      "outputs": []
    },
    {
      "cell_type": "code",
      "metadata": {
        "id": "5kmMUgZzXBSL"
      },
      "source": [
        "estimator = RandomForestRegressor()"
      ],
      "execution_count": 48,
      "outputs": []
    },
    {
      "cell_type": "code",
      "metadata": {
        "id": "nIAqHR0zXBUc"
      },
      "source": [
        "from sklearn.model_selection import KFold\n",
        "\n",
        "kf = KFold(random_state=30,\n",
        "           n_splits=10,\n",
        "           shuffle=True,\n",
        "          )"
      ],
      "execution_count": 49,
      "outputs": []
    },
    {
      "cell_type": "code",
      "metadata": {
        "colab": {
          "base_uri": "https://localhost:8080/"
        },
        "id": "A45dp-2IXBWn",
        "outputId": "48e576c5-e94b-4239-f689-0e0bf03a3a20"
      },
      "source": [
        "grid_search2 = GridSearchCV(estimator=estimator, \n",
        "                           param_grid=param_grid, \n",
        "                           cv=kf, \n",
        "                           n_jobs=-1, \n",
        "                           verbose=2\n",
        "                          )\n",
        "grid_search2.fit(X_train, y2_train)"
      ],
      "execution_count": 51,
      "outputs": [
        {
          "output_type": "stream",
          "name": "stdout",
          "text": [
            "Fitting 10 folds for each of 96 candidates, totalling 960 fits\n"
          ]
        },
        {
          "output_type": "stream",
          "name": "stderr",
          "text": [
            "[Parallel(n_jobs=-1)]: Using backend LokyBackend with 2 concurrent workers.\n",
            "[Parallel(n_jobs=-1)]: Done  37 tasks      | elapsed:   12.4s\n",
            "[Parallel(n_jobs=-1)]: Done 158 tasks      | elapsed:   44.6s\n",
            "[Parallel(n_jobs=-1)]: Done 361 tasks      | elapsed:  1.6min\n",
            "[Parallel(n_jobs=-1)]: Done 644 tasks      | elapsed:  2.8min\n",
            "[Parallel(n_jobs=-1)]: Done 960 out of 960 | elapsed:  4.1min finished\n"
          ]
        },
        {
          "output_type": "execute_result",
          "data": {
            "text/plain": [
              "GridSearchCV(cv=KFold(n_splits=10, random_state=30, shuffle=True),\n",
              "             error_score=nan,\n",
              "             estimator=RandomForestRegressor(bootstrap=True, ccp_alpha=0.0,\n",
              "                                             criterion='mse', max_depth=None,\n",
              "                                             max_features='auto',\n",
              "                                             max_leaf_nodes=None,\n",
              "                                             max_samples=None,\n",
              "                                             min_impurity_decrease=0.0,\n",
              "                                             min_impurity_split=None,\n",
              "                                             min_samples_leaf=1,\n",
              "                                             min_samples_split=2,\n",
              "                                             min_weight_fraction_leaf=0.0,\n",
              "                                             n_estimators=100, n_jobs=None,\n",
              "                                             oob_score=False, random_state=None,\n",
              "                                             verbose=0, warm_start=False),\n",
              "             iid='deprecated', n_jobs=-1,\n",
              "             param_grid={'max_depth': [None, 6, 9, 12],\n",
              "                         'max_features': ['auto', 'sqrt'],\n",
              "                         'min_samples_split': [0.01, 0.05, 0.1],\n",
              "                         'n_estimators': [100, 150, 200, 250]},\n",
              "             pre_dispatch='2*n_jobs', refit=True, return_train_score=False,\n",
              "             scoring=None, verbose=2)"
            ]
          },
          "metadata": {},
          "execution_count": 51
        }
      ]
    },
    {
      "cell_type": "code",
      "metadata": {
        "colab": {
          "base_uri": "https://localhost:8080/"
        },
        "id": "by2YmzJWXGe3",
        "outputId": "2842f4ca-82d6-4f51-cc6e-be7d703ed62f"
      },
      "source": [
        "grid_search2.best_params_"
      ],
      "execution_count": 54,
      "outputs": [
        {
          "output_type": "execute_result",
          "data": {
            "text/plain": [
              "{'max_depth': 9,\n",
              " 'max_features': 'auto',\n",
              " 'min_samples_split': 0.1,\n",
              " 'n_estimators': 150}"
            ]
          },
          "metadata": {},
          "execution_count": 54
        }
      ]
    },
    {
      "cell_type": "code",
      "metadata": {
        "id": "RhVRFUfHXGgw"
      },
      "source": [
        "estimator=grid_search2.best_estimator_"
      ],
      "execution_count": 55,
      "outputs": []
    },
    {
      "cell_type": "code",
      "metadata": {
        "id": "wwskSmFDXGiq"
      },
      "source": [
        "best_model = grid_search2.best_estimator_\n",
        "y_predict = best_model.predict(X_test)\n"
      ],
      "execution_count": 57,
      "outputs": []
    },
    {
      "cell_type": "code",
      "metadata": {
        "colab": {
          "base_uri": "https://localhost:8080/"
        },
        "id": "LFCqz_UyXGke",
        "outputId": "7dd67e5b-219b-4af7-a1cf-9708ff0e08f4"
      },
      "source": [
        "y_predict =estimator.predict(X_test)\n",
        "y_predict2=y_predict.astype(\"int\")\n",
        "y_predict2"
      ],
      "execution_count": 58,
      "outputs": [
        {
          "output_type": "execute_result",
          "data": {
            "text/plain": [
              "array([395, 480, 352, 539, 526, 397, 488, 438, 545, 534, 351, 520, 560,\n",
              "       389, 471, 439, 561, 538, 393, 491, 434, 538, 390, 491, 402, 566,\n",
              "       538, 390, 491, 439, 558, 534, 398, 471, 443, 539, 539, 396, 485,\n",
              "       431, 557, 537, 396, 488, 439, 565, 541, 396, 477, 439])"
            ]
          },
          "metadata": {},
          "execution_count": 58
        }
      ]
    },
    {
      "cell_type": "code",
      "metadata": {
        "colab": {
          "base_uri": "https://localhost:8080/"
        },
        "id": "3tm16MqUXTQS",
        "outputId": "f9f76903-81ad-4f29-e384-080aa58e4867"
      },
      "source": [
        "print(\"최고 평균 정확도: {0:.4f}\".format(grid_search2.best_score_))\n",
        "print(\"최고의 파라미터 :\",grid_search2.best_params_)"
      ],
      "execution_count": 59,
      "outputs": [
        {
          "output_type": "stream",
          "name": "stdout",
          "text": [
            "최고 평균 정확도: 0.2746\n",
            "최고의 파라미터 : {'max_depth': 9, 'max_features': 'auto', 'min_samples_split': 0.1, 'n_estimators': 150}\n"
          ]
        }
      ]
    }
  ]
}