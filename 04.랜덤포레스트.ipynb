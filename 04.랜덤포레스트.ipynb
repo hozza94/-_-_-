{
 "cells": [
  {
   "cell_type": "markdown",
   "source": [
    "# 1. 메모리 변수 제거"
   ],
   "metadata": {}
  },
  {
   "cell_type": "code",
   "execution_count": 1,
   "source": [
    "# 메모리 변수 모두 제거\n",
    "all = [var for var in globals() if var[0] != \"_\"]\n",
    "for var in all:\n",
    "    del globals()[var]"
   ],
   "outputs": [],
   "metadata": {}
  },
  {
   "cell_type": "markdown",
   "source": [
    "# 2. 사용 패키지"
   ],
   "metadata": {}
  },
  {
   "cell_type": "code",
   "execution_count": 2,
   "source": [
    "import numpy as np\n",
    "import pandas as pd\n",
    "import seaborn as sns\n",
    "import matplotlib.pyplot as plt\n",
    "%matplotlib inline\n",
    "# plt.rc('font', family = 'Malgun Gothic') # WINDOWS\n",
    "plt.rc('font', family = 'AppleGothic') # MAC\n",
    "plt.rc('axes', unicode_minus = False)\n",
    "import warnings\n",
    "warnings.filterwarnings('ignore')"
   ],
   "outputs": [],
   "metadata": {}
  },
  {
   "cell_type": "markdown",
   "source": [
    "# 3. 데이터 로드"
   ],
   "metadata": {}
  },
  {
   "cell_type": "code",
   "execution_count": 3,
   "source": [
    "train = pd.read_csv('data/train_pre.csv')"
   ],
   "outputs": [],
   "metadata": {}
  },
  {
   "cell_type": "markdown",
   "source": [
    "# 4. 데이터 정보"
   ],
   "metadata": {}
  },
  {
   "cell_type": "code",
   "execution_count": 4,
   "source": [
    "train.info()"
   ],
   "outputs": [
    {
     "output_type": "stream",
     "name": "stdout",
     "text": [
      "<class 'pandas.core.frame.DataFrame'>\n",
      "RangeIndex: 1205 entries, 0 to 1204\n",
      "Data columns (total 24 columns):\n",
      " #   Column          Non-Null Count  Dtype  \n",
      "---  ------          --------------  -----  \n",
      " 0   일자              1205 non-null   object \n",
      " 1   년               1205 non-null   int64  \n",
      " 2   월               1205 non-null   int64  \n",
      " 3   일               1205 non-null   int64  \n",
      " 4   요일              1205 non-null   int64  \n",
      " 5   휴일전날            1205 non-null   int64  \n",
      " 6   본사정원수           1205 non-null   int64  \n",
      " 7   본사휴가자수          1205 non-null   int64  \n",
      " 8   본사출장자수          1205 non-null   int64  \n",
      " 9   본사시간외근무명령서승인건수  1205 non-null   int64  \n",
      " 10  현본사소속재택근무자수     1205 non-null   int64  \n",
      " 11  식사가능자수          1205 non-null   int64  \n",
      " 12  중식계             1205 non-null   int64  \n",
      " 13  석식계             1205 non-null   int64  \n",
      " 14  중식참여율           1205 non-null   float64\n",
      " 15  석식참여율           1205 non-null   float64\n",
      " 16  체감온도(중식)        1205 non-null   float64\n",
      " 17  불쾌지수(중식)        1205 non-null   int64  \n",
      " 18  우산(중식)          1205 non-null   int64  \n",
      " 19  체감온도(석식)        1205 non-null   float64\n",
      " 20  불쾌지수(석식)        1205 non-null   int64  \n",
      " 21  우산(석식)          1205 non-null   int64  \n",
      " 22  코로나신규확진자        1205 non-null   int64  \n",
      " 23  거리두기단계          1205 non-null   float64\n",
      "dtypes: float64(5), int64(18), object(1)\n",
      "memory usage: 226.1+ KB\n"
     ]
    }
   ],
   "metadata": {}
  },
  {
   "cell_type": "markdown",
   "source": [
    "# 5. 모델 평가"
   ],
   "metadata": {}
  },
  {
   "cell_type": "markdown",
   "source": [
    "## 1) 데이터 분할"
   ],
   "metadata": {}
  },
  {
   "cell_type": "code",
   "execution_count": 5,
   "source": [
    "from sklearn.model_selection import train_test_split\n",
    "X = train.drop(['일자', '중식계', '석식계', '중식참여율', '석식참여율'], axis = 1)\n",
    "y = train[['중식계', '석식계']]\n",
    "X_train, X_test, y_train, y_test = \\\n",
    "    train_test_split(X, y, test_size = 0.3, random_state = 2021)"
   ],
   "outputs": [],
   "metadata": {}
  },
  {
   "cell_type": "code",
   "execution_count": 6,
   "source": [
    "X_train.shape, X_test.shape, y_train.shape, y_test.shape"
   ],
   "outputs": [
    {
     "output_type": "execute_result",
     "data": {
      "text/plain": [
       "((843, 19), (362, 19), (843, 2), (362, 2))"
      ]
     },
     "metadata": {},
     "execution_count": 6
    }
   ],
   "metadata": {}
  },
  {
   "cell_type": "markdown",
   "source": [
    "## 2) Standard Scaler"
   ],
   "metadata": {}
  },
  {
   "cell_type": "code",
   "execution_count": 7,
   "source": [
    "from sklearn.preprocessing import StandardScaler\n",
    "std = StandardScaler()\n",
    "X_train = std.fit_transform(X_train)\n",
    "X_test = std.transform(X_test)"
   ],
   "outputs": [],
   "metadata": {}
  },
  {
   "cell_type": "markdown",
   "source": [
    "## 3) Random Forest Regression"
   ],
   "metadata": {}
  },
  {
   "cell_type": "markdown",
   "source": [
    "### (1) 교차검증"
   ],
   "metadata": {}
  },
  {
   "cell_type": "code",
   "execution_count": 8,
   "source": [
    "from sklearn.ensemble import RandomForestRegressor\n",
    "from sklearn.model_selection import cross_val_score\n",
    "rfr = RandomForestRegressor(random_state = 2021)\n",
    "scores = cross_val_score(\n",
    "    rfr, X_train, y_train, cv = 5, n_jobs = -1,\n",
    "    scoring = 'neg_mean_squared_error'\n",
    ")\n",
    "print('RMSE : {}'.format(np.sqrt(-scores)))\n",
    "print('RMSE평균 : {}'.format(np.sqrt(-scores.mean())))"
   ],
   "outputs": [
    {
     "output_type": "stream",
     "name": "stdout",
     "text": [
      "RMSE : [94.51223771 85.02233721 94.85365883 94.30588492 91.10598015]\n",
      "RMSE평균 : 92.03529436609418\n"
     ]
    }
   ],
   "metadata": {}
  },
  {
   "cell_type": "markdown",
   "source": [
    "### (2) 그리드 탐색"
   ],
   "metadata": {}
  },
  {
   "cell_type": "code",
   "execution_count": 9,
   "source": [
    "from sklearn.ensemble import RandomForestRegressor\n",
    "from sklearn.model_selection import GridSearchCV\n",
    "rfr = RandomForestRegressor(random_state = 2021)\n",
    "parameters = {\n",
    "    'n_estimators' : [100, 200, 300],\n",
    "    'max_features' : [10, 11, 12],\n",
    "    'min_samples_leaf' : [1, 2, 3]\n",
    "}\n",
    "grds = GridSearchCV(rfr, param_grid = parameters, cv = 3, n_jobs = -1)\n",
    "grds.fit(X_train, y_train)\n",
    "print('최적 하이퍼파라미터 : ', grds.best_params_)\n",
    "print('최적 하이퍼파라미터 RMSE : {:.4f}'.format(np.sqrt(grds.best_score_)))"
   ],
   "outputs": [
    {
     "output_type": "stream",
     "name": "stdout",
     "text": [
      "최적 하이퍼파라미터 :  {'max_features': 11, 'min_samples_leaf': 2, 'n_estimators': 200}\n",
      "최적 하이퍼파라미터 RMSE : 0.8376\n"
     ]
    }
   ],
   "metadata": {}
  },
  {
   "cell_type": "markdown",
   "source": [
    "### (3) 임의 탐색"
   ],
   "metadata": {}
  },
  {
   "cell_type": "code",
   "execution_count": 10,
   "source": [
    "from sklearn.ensemble import RandomForestRegressor\n",
    "from sklearn.model_selection import RandomizedSearchCV\n",
    "import scipy.stats as stats\n",
    "rfr = RandomForestRegressor(random_state = 2021)\n",
    "parameters = {\n",
    "    'n_estimators' : stats.randint(100, 500),\n",
    "    'max_features' : stats.randint(7, 8),\n",
    "    'min_samples_leaf' : stats.randint(1, 2)\n",
    "}\n",
    "rand = RandomizedSearchCV(rfr, param_distributions = parameters, n_iter = 10, cv = 3, n_jobs = -1, random_state = 2021)\n",
    "rand.fit(X_train, y_train)\n",
    "print('최적 하이퍼파라미터 : ', rand.best_params_)\n",
    "print('최적 하이퍼파라미터 RMSE : {:.4f}'.format(np.sqrt(rand.best_score_)))"
   ],
   "outputs": [
    {
     "output_type": "stream",
     "name": "stdout",
     "text": [
      "최적 하이퍼파라미터 :  {'max_features': 7, 'min_samples_leaf': 1, 'n_estimators': 209}\n",
      "최적 하이퍼파라미터 RMSE : 0.8373\n"
     ]
    }
   ],
   "metadata": {}
  },
  {
   "cell_type": "markdown",
   "source": [
    "# 5. 모델 실행"
   ],
   "metadata": {}
  },
  {
   "cell_type": "markdown",
   "source": [
    "## 1) 첫 번째 모델\n",
    "- Default"
   ],
   "metadata": {}
  },
  {
   "cell_type": "code",
   "execution_count": 11,
   "source": [
    "from sklearn.ensemble import RandomForestRegressor\n",
    "from sklearn.metrics import mean_squared_error\n",
    "rfr = RandomForestRegressor(random_state = 2021)\n",
    "rfr.fit(X_train, y_train)\n",
    "pred_1 = rfr.predict(X_test)\n",
    "np.sqrt(mean_squared_error(y_test, pred_1))"
   ],
   "outputs": [
    {
     "output_type": "execute_result",
     "data": {
      "text/plain": [
       "92.13635436224807"
      ]
     },
     "metadata": {},
     "execution_count": 11
    }
   ],
   "metadata": {}
  },
  {
   "cell_type": "markdown",
   "source": [
    "## 2) 두 번째 모델\n",
    "- 'max_features': 11, 'min_samples_leaf': 2, 'n_estimators': 200"
   ],
   "metadata": {}
  },
  {
   "cell_type": "code",
   "execution_count": 12,
   "source": [
    "from sklearn.ensemble import RandomForestRegressor\n",
    "from sklearn.metrics import mean_squared_error\n",
    "rfr = RandomForestRegressor(\n",
    "    max_features = 11, min_samples_leaf = 2,\n",
    "    n_estimators = 200, random_state = 2021\n",
    ")\n",
    "rfr.fit(X_train, y_train)\n",
    "pred_2 = rfr.predict(X_test)\n",
    "np.sqrt(mean_squared_error(y_test, pred_2))"
   ],
   "outputs": [
    {
     "output_type": "execute_result",
     "data": {
      "text/plain": [
       "90.15506577044027"
      ]
     },
     "metadata": {},
     "execution_count": 12
    }
   ],
   "metadata": {}
  },
  {
   "cell_type": "markdown",
   "source": [
    "## 3) 세 번째 모델\n",
    "- 'max_features': 7, 'min_samples_leaf': 1, 'n_estimators': 209"
   ],
   "metadata": {}
  },
  {
   "cell_type": "code",
   "execution_count": 13,
   "source": [
    "from sklearn.ensemble import RandomForestRegressor\n",
    "from sklearn.metrics import mean_squared_error\n",
    "rfr = RandomForestRegressor(max_features = 7, min_samples_leaf = 1, n_estimators = 209, random_state = 2021)\n",
    "rfr.fit(X_train, y_train)\n",
    "pred_3 = rfr.predict(X_test)\n",
    "np.sqrt(mean_squared_error(y_test, pred_3))"
   ],
   "outputs": [
    {
     "output_type": "execute_result",
     "data": {
      "text/plain": [
       "88.37604769910392"
      ]
     },
     "metadata": {},
     "execution_count": 13
    }
   ],
   "metadata": {}
  },
  {
   "cell_type": "markdown",
   "source": [
    "## 4) 네 번째 모델\n",
    "- 'n_estimators' = 800, 'max_depth' = 20, 'bootstrap' = True"
   ],
   "metadata": {}
  },
  {
   "cell_type": "code",
   "execution_count": 14,
   "source": [
    "from sklearn.ensemble import RandomForestRegressor\n",
    "from sklearn.metrics import mean_squared_error\n",
    "rfr = RandomForestRegressor(n_estimators = 800, max_depth = 20, bootstrap = True, random_state = 2021)\n",
    "rfr.fit(X_train, y_train)\n",
    "pred_4 = rfr.predict(X_test)\n",
    "np.sqrt(mean_squared_error(y_test, pred_4))"
   ],
   "outputs": [
    {
     "output_type": "execute_result",
     "data": {
      "text/plain": [
       "91.71939918997622"
      ]
     },
     "metadata": {},
     "execution_count": 14
    }
   ],
   "metadata": {}
  },
  {
   "cell_type": "markdown",
   "source": [
    "# 6. 모델 검증"
   ],
   "metadata": {}
  },
  {
   "cell_type": "markdown",
   "source": [
    "## 1) ANOVA\n",
    "- R²(결정계수) : RSS / TSS = 1 - SSE / TSS\n",
    "- TSS : (y - y평균)²\n",
    "- RSS : (y예측 - y평균)²\n",
    "- SSE : (y예측 - y)²"
   ],
   "metadata": {}
  },
  {
   "cell_type": "code",
   "execution_count": 15,
   "source": [
    "from sklearn.metrics import r2_score\n",
    "print('R²값(1) : %.3f' % r2_score(y_test, pred_1)) # 첫 번째 모델\n",
    "print('R²값(2) : %.3f' % r2_score(y_test, pred_2)) # 두 번째 모델\n",
    "print('R²값(3) : %.3f' % r2_score(y_test, pred_3)) # 세 번째 모델\n",
    "print('R²값(4) : %.3f' % r2_score(y_test, pred_4)) # 네 번째 모델"
   ],
   "outputs": [
    {
     "output_type": "stream",
     "name": "stdout",
     "text": [
      "R²값(1) : 0.692\n",
      "R²값(2) : 0.698\n",
      "R²값(3) : 0.705\n",
      "R²값(4) : 0.692\n"
     ]
    }
   ],
   "metadata": {}
  },
  {
   "cell_type": "markdown",
   "source": [
    "## 2) 비교"
   ],
   "metadata": {}
  },
  {
   "cell_type": "code",
   "execution_count": 16,
   "source": [
    "sns.distplot(pred_1, kde = False, fit = stats.norm, hist_kws = {'color' : 'k', 'alpha' : 0.2}, fit_kws = {'color' : 'k'}, label = '첫 번째 모델')\n",
    "sns.distplot(pred_2, kde = False, fit = stats.norm, hist_kws = {'color' : 'r', 'alpha' : 0.2}, fit_kws = {'color' : 'r'}, label = '두 번째 모델')\n",
    "sns.distplot(pred_3, kde = False, fit = stats.norm, hist_kws = {'color' : 'g', 'alpha' : 0.2}, fit_kws = {'color' : 'g'}, label = '세 번째 모델')\n",
    "sns.distplot(pred_4, kde = False, fit = stats.norm, hist_kws = {'color' : 'b', 'alpha' : 0.2}, fit_kws = {'color' : 'b'}, label = '네 번째 모델')\n",
    "plt.legend()\n",
    "plt.grid()\n",
    "plt.show()"
   ],
   "outputs": [
    {
     "output_type": "display_data",
     "data": {
      "image/png": "[encoded data removed]",
      "text/plain": [
       "<Figure size 432x288 with 1 Axes>"
      ]
     },
     "metadata": {
      "needs_background": "light"
     }
    }
   ],
   "metadata": {}
  },
  {
   "cell_type": "code",
   "execution_count": 17,
   "source": [
    "mean = (pred_1 + pred_2 + pred_3 + pred_4) / 4\n",
    "sns.distplot(pred_4, kde = False, fit = stats.norm, hist_kws = {'color' : 'b', 'alpha' : 0.2}, fit_kws = {'color' : 'b'}, label = '4가지 모델의 평균')\n",
    "plt.legend()\n",
    "plt.grid()\n",
    "plt.show()"
   ],
   "outputs": [
    {
     "output_type": "display_data",
     "data": {
      "image/png": "[encoded data removed]",
      "text/plain": [
       "<Figure size 432x288 with 1 Axes>"
      ]
     },
     "metadata": {
      "needs_background": "light"
     }
    }
   ],
   "metadata": {}
  }
 ],
 "metadata": {
  "orig_nbformat": 4,
  "language_info": {
   "name": "python",
   "version": "3.8.2",
   "mimetype": "text/x-python",
   "codemirror_mode": {
    "name": "ipython",
    "version": 3
   },
   "pygments_lexer": "ipython3",
   "nbconvert_exporter": "python",
   "file_extension": ".py"
  },
  "kernelspec": {
   "name": "python3",
   "display_name": "Python 3.8.2 64-bit ('base': conda)"
  },
  "interpreter": {
   "hash": "dca0ade3e726a953b501b15e8e990130d2b7799f14cfd9f4271676035ebe5511"
  }
 },
 "nbformat": 4,
 "nbformat_minor": 2
}