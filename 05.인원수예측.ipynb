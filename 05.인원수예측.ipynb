{
 "cells": [
  {
   "cell_type": "markdown",
   "source": [
    "# 1. 메모리 변수 제거"
   ],
   "metadata": {}
  },
  {
   "cell_type": "code",
   "execution_count": 1,
   "source": [
    "# 메모리 변수 모두 제거\n",
    "all = [var for var in globals() if var[0] != \"_\"]\n",
    "for var in all:\n",
    "    del globals()[var]"
   ],
   "outputs": [],
   "metadata": {}
  },
  {
   "cell_type": "markdown",
   "source": [
    "# 2. 사용 패키지"
   ],
   "metadata": {}
  },
  {
   "cell_type": "code",
   "execution_count": 2,
   "source": [
    "import numpy as np\n",
    "import pandas as pd\n",
    "import seaborn as sns\n",
    "import matplotlib.pyplot as plt\n",
    "%matplotlib inline\n",
    "# plt.rc('font', family = 'Malgun Gothic') # WINDOWS\n",
    "plt.rc('font', family = 'AppleGothic') # MAC\n",
    "plt.rc('axes', unicode_minus = False)\n",
    "import warnings\n",
    "warnings.filterwarnings('ignore')"
   ],
   "outputs": [],
   "metadata": {}
  },
  {
   "cell_type": "markdown",
   "source": [
    "# 3. 데이터 로드"
   ],
   "metadata": {}
  },
  {
   "cell_type": "code",
   "execution_count": 3,
   "source": [
    "train = pd.read_csv('data/train_pre.csv')\n",
    "test = pd.read_csv('data/test_pre.csv')\n",
    "submission = pd.read_csv('data/sample_submission.csv')"
   ],
   "outputs": [],
   "metadata": {}
  },
  {
   "cell_type": "code",
   "execution_count": 4,
   "source": [
    "sub1 = pd.read_csv('data/sample_submission.csv')\n",
    "sub2 = pd.read_csv('data/sample_submission.csv')\n",
    "sub3 = pd.read_csv('data/sample_submission.csv')\n",
    "sub4 = pd.read_csv('data/sample_submission.csv')"
   ],
   "outputs": [],
   "metadata": {}
  },
  {
   "cell_type": "markdown",
   "source": [
    "# 4. 데이터 정보"
   ],
   "metadata": {}
  },
  {
   "cell_type": "code",
   "execution_count": 5,
   "source": [
    "train.info()"
   ],
   "outputs": [
    {
     "output_type": "stream",
     "name": "stdout",
     "text": [
      "<class 'pandas.core.frame.DataFrame'>\n",
      "RangeIndex: 1205 entries, 0 to 1204\n",
      "Data columns (total 24 columns):\n",
      " #   Column          Non-Null Count  Dtype  \n",
      "---  ------          --------------  -----  \n",
      " 0   일자              1205 non-null   object \n",
      " 1   년               1205 non-null   int64  \n",
      " 2   월               1205 non-null   int64  \n",
      " 3   일               1205 non-null   int64  \n",
      " 4   요일              1205 non-null   int64  \n",
      " 5   휴일전날            1205 non-null   int64  \n",
      " 6   본사정원수           1205 non-null   int64  \n",
      " 7   본사휴가자수          1205 non-null   int64  \n",
      " 8   본사출장자수          1205 non-null   int64  \n",
      " 9   본사시간외근무명령서승인건수  1205 non-null   int64  \n",
      " 10  현본사소속재택근무자수     1205 non-null   int64  \n",
      " 11  식사가능자수          1205 non-null   int64  \n",
      " 12  중식계             1205 non-null   int64  \n",
      " 13  석식계             1205 non-null   int64  \n",
      " 14  중식참여율           1205 non-null   float64\n",
      " 15  석식참여율           1205 non-null   float64\n",
      " 16  체감온도(중식)        1205 non-null   float64\n",
      " 17  불쾌지수(중식)        1205 non-null   int64  \n",
      " 18  우산(중식)          1205 non-null   int64  \n",
      " 19  체감온도(석식)        1205 non-null   float64\n",
      " 20  불쾌지수(석식)        1205 non-null   int64  \n",
      " 21  우산(석식)          1205 non-null   int64  \n",
      " 22  코로나신규확진자        1205 non-null   int64  \n",
      " 23  거리두기단계          1205 non-null   float64\n",
      "dtypes: float64(5), int64(18), object(1)\n",
      "memory usage: 226.1+ KB\n"
     ]
    }
   ],
   "metadata": {}
  },
  {
   "cell_type": "code",
   "execution_count": 6,
   "source": [
    "test.info()"
   ],
   "outputs": [
    {
     "output_type": "stream",
     "name": "stdout",
     "text": [
      "<class 'pandas.core.frame.DataFrame'>\n",
      "RangeIndex: 50 entries, 0 to 49\n",
      "Data columns (total 20 columns):\n",
      " #   Column          Non-Null Count  Dtype  \n",
      "---  ------          --------------  -----  \n",
      " 0   일자              50 non-null     object \n",
      " 1   년               50 non-null     int64  \n",
      " 2   월               50 non-null     int64  \n",
      " 3   일               50 non-null     int64  \n",
      " 4   요일              50 non-null     int64  \n",
      " 5   휴일전날            50 non-null     int64  \n",
      " 6   본사정원수           50 non-null     int64  \n",
      " 7   본사휴가자수          50 non-null     int64  \n",
      " 8   본사출장자수          50 non-null     int64  \n",
      " 9   본사시간외근무명령서승인건수  50 non-null     int64  \n",
      " 10  현본사소속재택근무자수     50 non-null     int64  \n",
      " 11  식사가능자수          50 non-null     int64  \n",
      " 12  체감온도(중식)        50 non-null     float64\n",
      " 13  불쾌지수(중식)        50 non-null     int64  \n",
      " 14  우산(중식)          50 non-null     int64  \n",
      " 15  체감온도(석식)        50 non-null     float64\n",
      " 16  불쾌지수(석식)        50 non-null     int64  \n",
      " 17  우산(석식)          50 non-null     int64  \n",
      " 18  코로나신규확진자        50 non-null     int64  \n",
      " 19  거리두기단계          50 non-null     float64\n",
      "dtypes: float64(3), int64(16), object(1)\n",
      "memory usage: 7.9+ KB\n"
     ]
    }
   ],
   "metadata": {}
  },
  {
   "cell_type": "markdown",
   "source": [
    "# 5. 인원 수 예측"
   ],
   "metadata": {}
  },
  {
   "cell_type": "markdown",
   "source": [
    "## 1) 데이터 분할"
   ],
   "metadata": {}
  },
  {
   "cell_type": "code",
   "execution_count": 7,
   "source": [
    "X_train = train.drop(['일자', '중식계', '석식계', '중식참여율', '석식참여율'], axis = 1)\n",
    "X_test = test.drop(['일자'], axis = 1)\n",
    "y_train = train[['중식계', '석식계']]\n",
    "y_test = submission[['중식계', '석식계']]"
   ],
   "outputs": [],
   "metadata": {}
  },
  {
   "cell_type": "code",
   "execution_count": 8,
   "source": [
    "X_train.shape, X_test.shape, y_train.shape, y_test.shape"
   ],
   "outputs": [
    {
     "output_type": "execute_result",
     "data": {
      "text/plain": [
       "((1205, 19), (50, 19), (1205, 2), (50, 2))"
      ]
     },
     "metadata": {},
     "execution_count": 8
    }
   ],
   "metadata": {}
  },
  {
   "cell_type": "markdown",
   "source": [
    "## 2) 4가지 모델"
   ],
   "metadata": {}
  },
  {
   "cell_type": "markdown",
   "source": [
    "### (1)\n",
    "- default"
   ],
   "metadata": {}
  },
  {
   "cell_type": "code",
   "execution_count": 9,
   "source": [
    "from sklearn.ensemble import RandomForestRegressor\n",
    "rfr = RandomForestRegressor(random_state = 2021)\n",
    "rfr.fit(X_train, y_train)\n",
    "pred_1 = rfr.predict(X_test)\n",
    "sub1[['중식계', '석식계']] = pred_1"
   ],
   "outputs": [],
   "metadata": {}
  },
  {
   "cell_type": "markdown",
   "source": [
    "### (2)\n",
    "- max_features = 11, min_samples_leaf = 2, n_estimators = 200"
   ],
   "metadata": {}
  },
  {
   "cell_type": "code",
   "execution_count": 10,
   "source": [
    "from sklearn.ensemble import RandomForestRegressor\n",
    "rfr = RandomForestRegressor(\n",
    "    max_features = 11, min_samples_leaf = 2,\n",
    "    n_estimators = 200, random_state = 2021\n",
    ")\n",
    "rfr.fit(X_train, y_train)\n",
    "pred_2 = rfr.predict(X_test)\n",
    "sub2[['중식계', '석식계']] = pred_2"
   ],
   "outputs": [],
   "metadata": {}
  },
  {
   "cell_type": "markdown",
   "source": [
    "### (3)\n",
    "- max_features = 7, min_samples_leaf = 1, n_estimators = 209"
   ],
   "metadata": {}
  },
  {
   "cell_type": "code",
   "execution_count": 11,
   "source": [
    "from sklearn.ensemble import RandomForestRegressor\n",
    "rfr = RandomForestRegressor(\n",
    "    max_features = 8, min_samples_leaf = 1,\n",
    "    n_estimators = 418, random_state = 2021\n",
    ")\n",
    "rfr.fit(X_train, y_train)\n",
    "pred_3 = rfr.predict(X_test)\n",
    "sub3[['중식계', '석식계']] = pred_3"
   ],
   "outputs": [],
   "metadata": {}
  },
  {
   "cell_type": "markdown",
   "source": [
    "### (4)\n",
    "- n_estimators = 800, max_depth = 20, bootstrap = True"
   ],
   "metadata": {}
  },
  {
   "cell_type": "code",
   "execution_count": 12,
   "source": [
    "from sklearn.ensemble import RandomForestRegressor\n",
    "rfr = RandomForestRegressor(\n",
    "    n_estimators = 800, max_depth = 20,\n",
    "    bootstrap = True, random_state = 2021\n",
    ")\n",
    "rfr.fit(X_train, y_train)\n",
    "pred_4 = rfr.predict(X_test)\n",
    "sub4[['중식계', '석식계']] = pred_4"
   ],
   "outputs": [],
   "metadata": {}
  },
  {
   "cell_type": "markdown",
   "source": [
    "## 3) 4가지 모델 예측값의 평균"
   ],
   "metadata": {}
  },
  {
   "cell_type": "code",
   "execution_count": 13,
   "source": [
    "sub1.rename(columns = {'중식계' : '중식계1'}, inplace = True)\n",
    "sub1.rename(columns = {'석식계' : '석식계1'}, inplace = True)\n",
    "sub2.rename(columns = {'중식계' : '중식계2'}, inplace = True)\n",
    "sub2.rename(columns = {'석식계' : '석식계2'}, inplace = True)\n",
    "sub3.rename(columns = {'중식계' : '중식계3'}, inplace = True)\n",
    "sub3.rename(columns = {'석식계' : '석식계3'}, inplace = True)\n",
    "sub4.rename(columns = {'중식계' : '중식계4'}, inplace = True)\n",
    "sub4.rename(columns = {'석식계' : '석식계4'}, inplace = True)\n",
    "sub = pd.merge(sub1, sub2, left_on = '일자', right_on = '일자', how = 'left')\n",
    "sub = pd.merge(sub, sub3, left_on = '일자', right_on = '일자', how = 'left')\n",
    "sub = pd.merge(sub, sub4, left_on = '일자', right_on = '일자', how = 'left')\n",
    "sub = sub.drop(['일자'], axis = 1)"
   ],
   "outputs": [],
   "metadata": {}
  },
  {
   "cell_type": "code",
   "execution_count": 14,
   "source": [
    "pred_lunch = sub.drop(['석식계1', '석식계2', '석식계3', '석식계4'], axis = 1)\n",
    "pred_dinner = sub.drop(['중식계1', '중식계2', '중식계3', '중식계4'], axis = 1)"
   ],
   "outputs": [],
   "metadata": {}
  },
  {
   "cell_type": "code",
   "execution_count": 15,
   "source": [
    "pred_lunch.head(1)"
   ],
   "outputs": [
    {
     "output_type": "execute_result",
     "data": {
      "text/html": [
       "<div>\n",
       "<style scoped>\n",
       "    .dataframe tbody tr th:only-of-type {\n",
       "        vertical-align: middle;\n",
       "    }\n",
       "\n",
       "    .dataframe tbody tr th {\n",
       "        vertical-align: top;\n",
       "    }\n",
       "\n",
       "    .dataframe thead th {\n",
       "        text-align: right;\n",
       "    }\n",
       "</style>\n",
       "<table border=\"1\" class=\"dataframe\">\n",
       "  <thead>\n",
       "    <tr style=\"text-align: right;\">\n",
       "      <th></th>\n",
       "      <th>중식계1</th>\n",
       "      <th>중식계2</th>\n",
       "      <th>중식계3</th>\n",
       "      <th>중식계4</th>\n",
       "    </tr>\n",
       "  </thead>\n",
       "  <tbody>\n",
       "    <tr>\n",
       "      <th>0</th>\n",
       "      <td>978.06</td>\n",
       "      <td>976.130581</td>\n",
       "      <td>993.444976</td>\n",
       "      <td>1000.4675</td>\n",
       "    </tr>\n",
       "  </tbody>\n",
       "</table>\n",
       "</div>"
      ],
      "text/plain": [
       "     중식계1        중식계2        중식계3       중식계4\n",
       "0  978.06  976.130581  993.444976  1000.4675"
      ]
     },
     "metadata": {},
     "execution_count": 15
    }
   ],
   "metadata": {}
  },
  {
   "cell_type": "code",
   "execution_count": 16,
   "source": [
    "pred_dinner.head(1)"
   ],
   "outputs": [
    {
     "output_type": "execute_result",
     "data": {
      "text/html": [
       "<div>\n",
       "<style scoped>\n",
       "    .dataframe tbody tr th:only-of-type {\n",
       "        vertical-align: middle;\n",
       "    }\n",
       "\n",
       "    .dataframe tbody tr th {\n",
       "        vertical-align: top;\n",
       "    }\n",
       "\n",
       "    .dataframe thead th {\n",
       "        text-align: right;\n",
       "    }\n",
       "</style>\n",
       "<table border=\"1\" class=\"dataframe\">\n",
       "  <thead>\n",
       "    <tr style=\"text-align: right;\">\n",
       "      <th></th>\n",
       "      <th>석식계1</th>\n",
       "      <th>석식계2</th>\n",
       "      <th>석식계3</th>\n",
       "      <th>석식계4</th>\n",
       "    </tr>\n",
       "  </thead>\n",
       "  <tbody>\n",
       "    <tr>\n",
       "      <th>0</th>\n",
       "      <td>204.24</td>\n",
       "      <td>208.829968</td>\n",
       "      <td>212.672249</td>\n",
       "      <td>176.37125</td>\n",
       "    </tr>\n",
       "  </tbody>\n",
       "</table>\n",
       "</div>"
      ],
      "text/plain": [
       "     석식계1        석식계2        석식계3       석식계4\n",
       "0  204.24  208.829968  212.672249  176.37125"
      ]
     },
     "metadata": {},
     "execution_count": 16
    }
   ],
   "metadata": {}
  },
  {
   "cell_type": "code",
   "execution_count": 17,
   "source": [
    "submission['중식계'] = pred_lunch.mean(axis = 1).astype(int)\n",
    "submission['석식계'] = pred_dinner.mean(axis = 1).astype(int)"
   ],
   "outputs": [],
   "metadata": {}
  },
  {
   "cell_type": "code",
   "execution_count": 18,
   "source": [
    "submission.tail(1)"
   ],
   "outputs": [
    {
     "output_type": "execute_result",
     "data": {
      "text/html": [
       "<div>\n",
       "<style scoped>\n",
       "    .dataframe tbody tr th:only-of-type {\n",
       "        vertical-align: middle;\n",
       "    }\n",
       "\n",
       "    .dataframe tbody tr th {\n",
       "        vertical-align: top;\n",
       "    }\n",
       "\n",
       "    .dataframe thead th {\n",
       "        text-align: right;\n",
       "    }\n",
       "</style>\n",
       "<table border=\"1\" class=\"dataframe\">\n",
       "  <thead>\n",
       "    <tr style=\"text-align: right;\">\n",
       "      <th></th>\n",
       "      <th>일자</th>\n",
       "      <th>중식계</th>\n",
       "      <th>석식계</th>\n",
       "    </tr>\n",
       "  </thead>\n",
       "  <tbody>\n",
       "    <tr>\n",
       "      <th>49</th>\n",
       "      <td>2021-04-09</td>\n",
       "      <td>588</td>\n",
       "      <td>284</td>\n",
       "    </tr>\n",
       "  </tbody>\n",
       "</table>\n",
       "</div>"
      ],
      "text/plain": [
       "            일자  중식계  석식계\n",
       "49  2021-04-09  588  284"
      ]
     },
     "metadata": {},
     "execution_count": 18
    }
   ],
   "metadata": {}
  },
  {
   "cell_type": "code",
   "execution_count": 19,
   "source": [
    "submission.to_csv('data/submission_complete.csv', index = False)"
   ],
   "outputs": [],
   "metadata": {}
  }
 ],
 "metadata": {
  "orig_nbformat": 4,
  "language_info": {
   "name": "python",
   "version": "3.8.2",
   "mimetype": "text/x-python",
   "codemirror_mode": {
    "name": "ipython",
    "version": 3
   },
   "pygments_lexer": "ipython3",
   "nbconvert_exporter": "python",
   "file_extension": ".py"
  },
  "kernelspec": {
   "name": "python3",
   "display_name": "Python 3.8.2 64-bit ('base': conda)"
  },
  "interpreter": {
   "hash": "dca0ade3e726a953b501b15e8e990130d2b7799f14cfd9f4271676035ebe5511"
  }
 },
 "nbformat": 4,
 "nbformat_minor": 2
}