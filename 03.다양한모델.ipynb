{
 "cells": [
  {
   "cell_type": "markdown",
   "source": [
    "# 1. 메모리 변수 제거"
   ],
   "metadata": {}
  },
  {
   "cell_type": "code",
   "execution_count": 1,
   "source": [
    "# 메모리 변수 모두 제거\n",
    "all = [var for var in globals() if var[0] != \"_\"]\n",
    "for var in all:\n",
    "    del globals()[var]"
   ],
   "outputs": [],
   "metadata": {}
  },
  {
   "cell_type": "markdown",
   "source": [
    "# 2. 사용 패키지"
   ],
   "metadata": {}
  },
  {
   "cell_type": "code",
   "execution_count": 2,
   "source": [
    "import numpy as np\n",
    "import pandas as pd\n",
    "import warnings\n",
    "warnings.filterwarnings('ignore')"
   ],
   "outputs": [],
   "metadata": {}
  },
  {
   "cell_type": "markdown",
   "source": [
    "# 3. 데이터 로드"
   ],
   "metadata": {}
  },
  {
   "cell_type": "code",
   "execution_count": 3,
   "source": [
    "train = pd.read_csv('data/train_pre.csv')"
   ],
   "outputs": [],
   "metadata": {}
  },
  {
   "cell_type": "markdown",
   "source": [
    "# 4. 데이터 정보"
   ],
   "metadata": {}
  },
  {
   "cell_type": "code",
   "execution_count": 4,
   "source": [
    "train.info()"
   ],
   "outputs": [
    {
     "output_type": "stream",
     "name": "stdout",
     "text": [
      "<class 'pandas.core.frame.DataFrame'>\n",
      "RangeIndex: 1205 entries, 0 to 1204\n",
      "Data columns (total 24 columns):\n",
      " #   Column          Non-Null Count  Dtype  \n",
      "---  ------          --------------  -----  \n",
      " 0   일자              1205 non-null   object \n",
      " 1   년               1205 non-null   int64  \n",
      " 2   월               1205 non-null   int64  \n",
      " 3   일               1205 non-null   int64  \n",
      " 4   요일              1205 non-null   int64  \n",
      " 5   휴일전날            1205 non-null   int64  \n",
      " 6   본사정원수           1205 non-null   int64  \n",
      " 7   본사휴가자수          1205 non-null   int64  \n",
      " 8   본사출장자수          1205 non-null   int64  \n",
      " 9   본사시간외근무명령서승인건수  1205 non-null   int64  \n",
      " 10  현본사소속재택근무자수     1205 non-null   int64  \n",
      " 11  식사가능자수          1205 non-null   int64  \n",
      " 12  중식계             1205 non-null   int64  \n",
      " 13  석식계             1205 non-null   int64  \n",
      " 14  중식참여율           1205 non-null   float64\n",
      " 15  석식참여율           1205 non-null   float64\n",
      " 16  체감온도(중식)        1205 non-null   float64\n",
      " 17  불쾌지수(중식)        1205 non-null   int64  \n",
      " 18  우산(중식)          1205 non-null   int64  \n",
      " 19  체감온도(석식)        1205 non-null   float64\n",
      " 20  불쾌지수(석식)        1205 non-null   int64  \n",
      " 21  우산(석식)          1205 non-null   int64  \n",
      " 22  코로나신규확진자        1205 non-null   int64  \n",
      " 23  거리두기단계          1205 non-null   float64\n",
      "dtypes: float64(5), int64(18), object(1)\n",
      "memory usage: 226.1+ KB\n"
     ]
    }
   ],
   "metadata": {}
  },
  {
   "cell_type": "markdown",
   "source": [
    "# 5. 모델 선택"
   ],
   "metadata": {}
  },
  {
   "cell_type": "markdown",
   "source": [
    "## 1) 데이터 분할"
   ],
   "metadata": {}
  },
  {
   "cell_type": "code",
   "execution_count": 5,
   "source": [
    "from sklearn.model_selection import train_test_split\n",
    "X = train.drop(['일자', '중식계', '석식계', '중식참여율', '석식참여율'], axis = 1)\n",
    "y = train[['중식계', '석식계']]\n",
    "X_train, X_test, y_train, y_test = \\\n",
    "    train_test_split(X, y, test_size = 0.3, random_state = 2021)"
   ],
   "outputs": [],
   "metadata": {}
  },
  {
   "cell_type": "code",
   "execution_count": 6,
   "source": [
    "X_train.shape, X_test.shape, y_train.shape, y_test.shape"
   ],
   "outputs": [
    {
     "output_type": "execute_result",
     "data": {
      "text/plain": [
       "((843, 19), (362, 19), (843, 2), (362, 2))"
      ]
     },
     "metadata": {},
     "execution_count": 6
    }
   ],
   "metadata": {}
  },
  {
   "cell_type": "code",
   "execution_count": 7,
   "source": [
    "X_train.info()"
   ],
   "outputs": [
    {
     "output_type": "stream",
     "name": "stdout",
     "text": [
      "<class 'pandas.core.frame.DataFrame'>\n",
      "Int64Index: 843 entries, 798 to 1140\n",
      "Data columns (total 19 columns):\n",
      " #   Column          Non-Null Count  Dtype  \n",
      "---  ------          --------------  -----  \n",
      " 0   년               843 non-null    int64  \n",
      " 1   월               843 non-null    int64  \n",
      " 2   일               843 non-null    int64  \n",
      " 3   요일              843 non-null    int64  \n",
      " 4   휴일전날            843 non-null    int64  \n",
      " 5   본사정원수           843 non-null    int64  \n",
      " 6   본사휴가자수          843 non-null    int64  \n",
      " 7   본사출장자수          843 non-null    int64  \n",
      " 8   본사시간외근무명령서승인건수  843 non-null    int64  \n",
      " 9   현본사소속재택근무자수     843 non-null    int64  \n",
      " 10  식사가능자수          843 non-null    int64  \n",
      " 11  체감온도(중식)        843 non-null    float64\n",
      " 12  불쾌지수(중식)        843 non-null    int64  \n",
      " 13  우산(중식)          843 non-null    int64  \n",
      " 14  체감온도(석식)        843 non-null    float64\n",
      " 15  불쾌지수(석식)        843 non-null    int64  \n",
      " 16  우산(석식)          843 non-null    int64  \n",
      " 17  코로나신규확진자        843 non-null    int64  \n",
      " 18  거리두기단계          843 non-null    float64\n",
      "dtypes: float64(3), int64(16)\n",
      "memory usage: 131.7 KB\n"
     ]
    }
   ],
   "metadata": {}
  },
  {
   "cell_type": "markdown",
   "source": [
    "## 2) Standard Scaler"
   ],
   "metadata": {}
  },
  {
   "cell_type": "code",
   "execution_count": 8,
   "source": [
    "from sklearn.preprocessing import StandardScaler\n",
    "std = StandardScaler()\n",
    "X_train = std.fit_transform(X_train)\n",
    "X_test = std.transform(X_test)"
   ],
   "outputs": [],
   "metadata": {}
  },
  {
   "cell_type": "markdown",
   "source": [
    "## 3) Linear Regression"
   ],
   "metadata": {}
  },
  {
   "cell_type": "code",
   "execution_count": 9,
   "source": [
    "from sklearn.linear_model import LinearRegression\n",
    "# Linear Regression\n",
    "lr = LinearRegression()\n",
    "# 모델 학습\n",
    "lr.fit(X_train, y_train)\n",
    "# 예측값 생성\n",
    "pred_lr = lr.predict(X_test)"
   ],
   "outputs": [],
   "metadata": {}
  },
  {
   "cell_type": "markdown",
   "source": [
    "## 4) Lasso"
   ],
   "metadata": {}
  },
  {
   "cell_type": "code",
   "execution_count": 10,
   "source": [
    "from sklearn.linear_model import Lasso\n",
    "# Lasso\n",
    "ls = Lasso()\n",
    "# 모델 학습\n",
    "ls.fit(X_train, y_train)\n",
    "# 예측값 생성\n",
    "pred_ls = ls.predict(X_test)"
   ],
   "outputs": [],
   "metadata": {}
  },
  {
   "cell_type": "markdown",
   "source": [
    "## 5) Ridge"
   ],
   "metadata": {}
  },
  {
   "cell_type": "code",
   "execution_count": 11,
   "source": [
    "from sklearn.linear_model import Ridge\n",
    "# Ridge\n",
    "rg = Ridge()\n",
    "# 모델 학습\n",
    "rg.fit(X_train, y_train)\n",
    "# 예측값 생성\n",
    "pred_rg = rg.predict(X_test)"
   ],
   "outputs": [],
   "metadata": {}
  },
  {
   "cell_type": "markdown",
   "source": [
    "## 6) Random Forest"
   ],
   "metadata": {}
  },
  {
   "cell_type": "code",
   "execution_count": 12,
   "source": [
    "from sklearn.ensemble import RandomForestRegressor\n",
    "# Random Forest Regressor\n",
    "rfr = RandomForestRegressor()\n",
    "# 모델 학습\n",
    "rfr.fit(X_train, y_train)\n",
    "# 예측값 생성\n",
    "pred_rfr = rfr.predict(X_test)"
   ],
   "outputs": [],
   "metadata": {}
  },
  {
   "cell_type": "markdown",
   "source": [
    "## 7) 예측 비교\n",
    "- R2 : 분산 기반, 1에 가까울수록 예측 정확도 높음\n",
    "- MSE : (실제값-예측값)² 평균\n",
    "- RMSE : √(MSE)\n",
    "- MAE : |실제값-예측값|"
   ],
   "metadata": {}
  },
  {
   "cell_type": "code",
   "execution_count": 13,
   "source": [
    "from sklearn.metrics import r2_score, mean_absolute_error, mean_squared_error\n",
    "# Linear Regression\n",
    "lr_R2 = r2_score(y_test, pred_lr)\n",
    "lr_MSE = mean_squared_error(y_test, pred_lr)\n",
    "lr_MAE = mean_absolute_error(y_test, pred_lr)\n",
    "# Lasso\n",
    "ls_R2 = r2_score(y_test, pred_ls)\n",
    "ls_MSE = mean_squared_error(y_test, pred_ls)\n",
    "ls_MAE = mean_absolute_error(y_test, pred_ls)\n",
    "# Ridge\n",
    "rg_R2 = r2_score(y_test, pred_rg)\n",
    "rg_MSE = mean_squared_error(y_test, pred_rg)\n",
    "rg_MAE = mean_absolute_error(y_test, pred_rg)\n",
    "# Random Forest Regression\n",
    "rfr_R2 = r2_score(y_test, pred_rfr)\n",
    "rfr_MSE = mean_squared_error(y_test, pred_rfr)\n",
    "rfr_MAE = mean_absolute_error(y_test, pred_rfr)\n",
    "# Print\n",
    "print('R2 Score - Linear Reg : %.2f, Lasso : %.2f, Ridge : %.2f, Random Forest Reg : %.2f' %(lr_R2, ls_R2, rg_R2, rfr_R2))\n",
    "print('MSE - Linear Reg : %.2f, Lasso : %.2f, Ridge : %.2f, Random Forest Reg : %.2f' %(lr_MSE, ls_MSE, rg_MSE, rfr_MSE))\n",
    "print('MAE - Linear Reg : %.2f, Lasso : %.2f, Ridge : %.2f, Random Forest Reg : %.2f' %(lr_MAE, ls_MAE, rg_MAE, rfr_MAE))"
   ],
   "outputs": [
    {
     "output_type": "stream",
     "name": "stdout",
     "text": [
      "R2 Score - Linear Reg : 0.58, Lasso : 0.59, Ridge : 0.58, Random Forest Reg : 0.69\n",
      "MSE - Linear Reg : 11236.88, Lasso : 11185.03, Ridge : 11230.47, Random Forest Reg : 8550.35\n",
      "MAE - Linear Reg : 78.71, Lasso : 78.47, Ridge : 78.68, Random Forest Reg : 66.78\n"
     ]
    }
   ],
   "metadata": {}
  },
  {
   "cell_type": "markdown",
   "source": [
    "# 6. 모델 선택 결과\n",
    "- R2 Score : Random Forest Regression\n",
    "- MSE : Random Forest Regression\n",
    "- MAE : Random Forest Regression"
   ],
   "metadata": {}
  },
  {
   "cell_type": "markdown",
   "source": [
    "# 7. 모델 평가"
   ],
   "metadata": {}
  },
  {
   "cell_type": "markdown",
   "source": [
    "## 1) About Random Forest\n",
    "- 여러 개의 결정 트리(Decision Tree)를 배깅(Bagging)\n",
    "- 배깅(Bagging) : 동일 알고리즘 여러 개의 분류기 생성, 각 분류기는 부트스트래핑(Bootstrapping)으로 학습, 보팅(Voting)을 통해 예측 결정\n",
    "- 부트스트래핑(Bootstrapping) : 전체 데이터에서 일부 데이터의 중첩 허용\n",
    "- 장점 : 쉬움, 직관적, 앙상블 알고리즘 중에서는 빠름, 좋은 성능\n",
    "- 단점 : 하이퍼 파라미터가 많아 튜닝을 많이 해야 함"
   ],
   "metadata": {}
  },
  {
   "cell_type": "markdown",
   "source": [
    "## 2) Random Forest Regressor - Hyper Parameter\n",
    "- n_estimators : int, default = 100, 트리 수\n",
    "- criterion : {'squared_error', 'absolute_error', 'poisson'}, Default = 'squared_error', 분할 품질 측정\n",
    "- (1) 'squared_error' : 평균 제곱 오차\n",
    "- (2) 'absolute_error' : 평균 절대값 오차\n",
    "- (3) 'poisson' : 포아송 이탈도 감소\n",
    "- max_depth : int, default = None, 트리 최대 깊이\n",
    "- min_samples_split : int/float, default = 2, 내부 노드 분할 위해 필요 최소 샘플 수\n",
    "- min_samples_leaf : int/float, default = 1, 리프 노드에 있어야 할 최소 샘플 수\n",
    "- min_weight_fraction_leaf : float, default = 0.0, 가중치 합계의 최소 가중비\n",
    "- max_features : {'auto', 'sqrt', 'log2'}, int/float, default = auto, Feature 수\n",
    "- (1) 'auto', max_features = n_features\n",
    "- (2) 'sqrt', max_features = sqrt(n_features)\n",
    "- (3) 'log2', max_features = log2(n_features)\n",
    "- (4) None, max_features = n_features\n",
    "- max_leaf_nodes : int, default = None, 리프 노드의 최대 개수"
   ],
   "metadata": {}
  },
  {
   "cell_type": "markdown",
   "source": [
    "## 3) Randomized Search CV"
   ],
   "metadata": {}
  },
  {
   "cell_type": "code",
   "execution_count": 14,
   "source": [
    "from sklearn.ensemble import RandomForestRegressor\n",
    "from sklearn.model_selection import RandomizedSearchCV\n",
    "# Parameters\n",
    "parameters = {\n",
    "    'n_estimators' : [700, 800, 900],\n",
    "    'max_depth' : [10, 20, 30],\n",
    "    'bootstrap' : [True, False]\n",
    "}\n",
    "# Random Forest Regression\n",
    "rfr = RandomForestRegressor(n_jobs = -1, random_state = 2021)\n",
    "# Randomized Search CV\n",
    "rfr_random = RandomizedSearchCV(\n",
    "    estimator = rfr,\n",
    "    param_distributions = parameters,\n",
    "    n_iter = 100, cv = 3, verbose = 2,\n",
    "    n_jobs = -1, random_state = 2021\n",
    ")\n",
    "# Fit Model\n",
    "rfr_random.fit(X_train, y_train)\n",
    "# Print\n",
    "print(rfr_random.best_params_)"
   ],
   "outputs": [
    {
     "output_type": "stream",
     "name": "stdout",
     "text": [
      "Fitting 3 folds for each of 18 candidates, totalling 54 fits\n",
      "[CV] END .....bootstrap=True, max_depth=10, n_estimators=700; total time=   9.0s\n",
      "[CV] END .....bootstrap=True, max_depth=10, n_estimators=700; total time=   9.0s\n",
      "[CV] END .....bootstrap=True, max_depth=10, n_estimators=700; total time=   9.3s\n",
      "[CV] END .....bootstrap=True, max_depth=10, n_estimators=800; total time=  10.0s\n",
      "[CV] END .....bootstrap=True, max_depth=10, n_estimators=800; total time=  10.0s\n",
      "[CV] END .....bootstrap=True, max_depth=10, n_estimators=800; total time=  10.0s\n",
      "[CV] END .....bootstrap=True, max_depth=10, n_estimators=900; total time=  11.1s\n",
      "[CV] END .....bootstrap=True, max_depth=10, n_estimators=900; total time=  11.0s\n",
      "[CV] END .....bootstrap=True, max_depth=20, n_estimators=700; total time=   8.4s\n",
      "[CV] END .....bootstrap=True, max_depth=20, n_estimators=700; total time=   8.6s\n",
      "[CV] END .....bootstrap=True, max_depth=10, n_estimators=900; total time=  10.4s\n",
      "[CV] END .....bootstrap=True, max_depth=20, n_estimators=700; total time=   9.0s\n",
      "[CV] END .....bootstrap=True, max_depth=20, n_estimators=800; total time=   8.6s\n",
      "[CV] END .....bootstrap=True, max_depth=20, n_estimators=800; total time=   8.8s\n",
      "[CV] END .....bootstrap=True, max_depth=20, n_estimators=800; total time=   8.8s\n",
      "[CV] END .....bootstrap=True, max_depth=20, n_estimators=900; total time=   9.9s\n",
      "[CV] END .....bootstrap=True, max_depth=30, n_estimators=700; total time=   7.7s\n",
      "[CV] END .....bootstrap=True, max_depth=20, n_estimators=900; total time=  10.4s\n",
      "[CV] END .....bootstrap=True, max_depth=20, n_estimators=900; total time=   9.7s\n",
      "[CV] END .....bootstrap=True, max_depth=30, n_estimators=700; total time=   8.1s\n",
      "[CV] END .....bootstrap=True, max_depth=30, n_estimators=700; total time=   7.5s\n",
      "[CV] END .....bootstrap=True, max_depth=30, n_estimators=800; total time=   8.2s\n",
      "[CV] END .....bootstrap=True, max_depth=30, n_estimators=800; total time=   8.4s\n",
      "[CV] END .....bootstrap=True, max_depth=30, n_estimators=800; total time=   8.4s\n",
      "[CV] END .....bootstrap=True, max_depth=30, n_estimators=900; total time=  10.0s\n",
      "[CV] END .....bootstrap=True, max_depth=30, n_estimators=900; total time=   9.5s\n",
      "[CV] END ....bootstrap=False, max_depth=10, n_estimators=700; total time=   8.0s\n",
      "[CV] END .....bootstrap=True, max_depth=30, n_estimators=900; total time=   9.6s\n",
      "[CV] END ....bootstrap=False, max_depth=10, n_estimators=700; total time=   8.2s\n",
      "[CV] END ....bootstrap=False, max_depth=10, n_estimators=700; total time=   8.0s\n",
      "[CV] END ....bootstrap=False, max_depth=10, n_estimators=800; total time=   9.2s\n",
      "[CV] END ....bootstrap=False, max_depth=10, n_estimators=800; total time=   9.4s\n",
      "[CV] END ....bootstrap=False, max_depth=10, n_estimators=800; total time=   8.8s\n",
      "[CV] END ....bootstrap=False, max_depth=10, n_estimators=900; total time=   9.5s\n",
      "[CV] END ....bootstrap=False, max_depth=10, n_estimators=900; total time=   9.8s\n",
      "[CV] END ....bootstrap=False, max_depth=10, n_estimators=900; total time=   9.8s\n",
      "[CV] END ....bootstrap=False, max_depth=20, n_estimators=700; total time=   8.2s\n",
      "[CV] END ....bootstrap=False, max_depth=20, n_estimators=700; total time=   8.6s\n",
      "[CV] END ....bootstrap=False, max_depth=20, n_estimators=700; total time=   8.6s\n",
      "[CV] END ....bootstrap=False, max_depth=20, n_estimators=800; total time=   9.4s\n",
      "[CV] END ....bootstrap=False, max_depth=20, n_estimators=800; total time=   9.8s\n",
      "[CV] END ....bootstrap=False, max_depth=20, n_estimators=800; total time=   9.7s\n",
      "[CV] END ....bootstrap=False, max_depth=20, n_estimators=900; total time=  10.7s\n",
      "[CV] END ....bootstrap=False, max_depth=20, n_estimators=900; total time=  11.5s\n",
      "[CV] END ....bootstrap=False, max_depth=30, n_estimators=700; total time=   9.8s\n",
      "[CV] END ....bootstrap=False, max_depth=20, n_estimators=900; total time=  12.9s\n",
      "[CV] END ....bootstrap=False, max_depth=30, n_estimators=700; total time=  10.5s\n",
      "[CV] END ....bootstrap=False, max_depth=30, n_estimators=700; total time=  10.9s\n",
      "[CV] END ....bootstrap=False, max_depth=30, n_estimators=800; total time=  10.4s\n",
      "[CV] END ....bootstrap=False, max_depth=30, n_estimators=800; total time=  11.0s\n",
      "[CV] END ....bootstrap=False, max_depth=30, n_estimators=800; total time=  11.3s\n",
      "[CV] END ....bootstrap=False, max_depth=30, n_estimators=900; total time=  13.5s\n",
      "[CV] END ....bootstrap=False, max_depth=30, n_estimators=900; total time=  14.5s\n",
      "[CV] END ....bootstrap=False, max_depth=30, n_estimators=900; total time=  13.6s\n",
      "{'n_estimators': 800, 'max_depth': 20, 'bootstrap': True}\n"
     ]
    }
   ],
   "metadata": {}
  },
  {
   "cell_type": "markdown",
   "source": [
    "## 4) Grid Search CV"
   ],
   "metadata": {}
  },
  {
   "cell_type": "code",
   "execution_count": 15,
   "source": [
    "from sklearn.ensemble import RandomForestRegressor\n",
    "from sklearn.model_selection import GridSearchCV\n",
    "# Parameters\n",
    "parameters = {\n",
    "    'n_estimators' : [700, 800, 900],\n",
    "    'max_depth' : [10, 20, 30],\n",
    "    'bootstrap' : [True, False]\n",
    "}\n",
    "# Random Forest Regression\n",
    "rfr = RandomForestRegressor(n_jobs = -1, random_state = 2021)\n",
    "# Grid Search CV\n",
    "rfr_grid = GridSearchCV(\n",
    "    estimator = rfr,\n",
    "    param_grid = parameters,\n",
    "    cv = 3, verbose = 2,\n",
    "    n_jobs = -1\n",
    ")\n",
    "# Fit Model\n",
    "rfr_grid.fit(X_train, y_train)\n",
    "# Print\n",
    "print(rfr_grid.best_params_)"
   ],
   "outputs": [
    {
     "output_type": "stream",
     "name": "stdout",
     "text": [
      "Fitting 3 folds for each of 18 candidates, totalling 54 fits\n",
      "[CV] END .....bootstrap=True, max_depth=10, n_estimators=700; total time=   6.9s\n",
      "[CV] END .....bootstrap=True, max_depth=10, n_estimators=700; total time=   6.9s\n",
      "[CV] END .....bootstrap=True, max_depth=10, n_estimators=700; total time=   6.9s\n",
      "[CV] END .....bootstrap=True, max_depth=10, n_estimators=800; total time=   7.8s\n",
      "[CV] END .....bootstrap=True, max_depth=10, n_estimators=800; total time=   7.2s\n",
      "[CV] END .....bootstrap=True, max_depth=10, n_estimators=800; total time=   7.2s\n",
      "[CV] END .....bootstrap=True, max_depth=10, n_estimators=900; total time=   8.0s\n",
      "[CV] END .....bootstrap=True, max_depth=10, n_estimators=900; total time=   9.0s\n",
      "[CV] END .....bootstrap=True, max_depth=20, n_estimators=700; total time=   7.5s\n",
      "[CV] END .....bootstrap=True, max_depth=20, n_estimators=700; total time=   8.0s\n",
      "[CV] END .....bootstrap=True, max_depth=10, n_estimators=900; total time=   9.2s\n",
      "[CV] END .....bootstrap=True, max_depth=20, n_estimators=700; total time=   8.4s\n",
      "[CV] END .....bootstrap=True, max_depth=20, n_estimators=800; total time=   8.9s\n",
      "[CV] END .....bootstrap=True, max_depth=20, n_estimators=800; total time=   9.7s\n",
      "[CV] END .....bootstrap=True, max_depth=20, n_estimators=800; total time=   9.6s\n",
      "[CV] END .....bootstrap=True, max_depth=20, n_estimators=900; total time=  11.6s\n",
      "[CV] END .....bootstrap=True, max_depth=30, n_estimators=700; total time=  10.0s\n",
      "[CV] END .....bootstrap=True, max_depth=20, n_estimators=900; total time=  13.2s\n",
      "[CV] END .....bootstrap=True, max_depth=20, n_estimators=900; total time=  13.2s\n",
      "[CV] END .....bootstrap=True, max_depth=30, n_estimators=700; total time=  12.0s\n",
      "[CV] END .....bootstrap=True, max_depth=30, n_estimators=700; total time=   9.4s\n",
      "[CV] END .....bootstrap=True, max_depth=30, n_estimators=800; total time=  10.7s\n",
      "[CV] END .....bootstrap=True, max_depth=30, n_estimators=800; total time=  10.4s\n",
      "[CV] END .....bootstrap=True, max_depth=30, n_estimators=800; total time=  10.9s\n",
      "[CV] END .....bootstrap=True, max_depth=30, n_estimators=900; total time=  12.4s\n",
      "[CV] END .....bootstrap=True, max_depth=30, n_estimators=900; total time=  11.8s\n",
      "[CV] END .....bootstrap=True, max_depth=30, n_estimators=900; total time=  11.4s\n",
      "[CV] END ....bootstrap=False, max_depth=10, n_estimators=700; total time=   8.7s\n",
      "[CV] END ....bootstrap=False, max_depth=10, n_estimators=700; total time=   7.8s\n",
      "[CV] END ....bootstrap=False, max_depth=10, n_estimators=700; total time=   7.5s\n",
      "[CV] END ....bootstrap=False, max_depth=10, n_estimators=800; total time=   8.5s\n",
      "[CV] END ....bootstrap=False, max_depth=10, n_estimators=800; total time=   8.7s\n",
      "[CV] END ....bootstrap=False, max_depth=10, n_estimators=800; total time=   8.5s\n",
      "[CV] END ....bootstrap=False, max_depth=10, n_estimators=900; total time=   9.6s\n",
      "[CV] END ....bootstrap=False, max_depth=10, n_estimators=900; total time=  10.1s\n",
      "[CV] END ....bootstrap=False, max_depth=10, n_estimators=900; total time=  10.2s\n",
      "[CV] END ....bootstrap=False, max_depth=20, n_estimators=700; total time=   8.9s\n",
      "[CV] END ....bootstrap=False, max_depth=20, n_estimators=700; total time=   9.2s\n",
      "[CV] END ....bootstrap=False, max_depth=20, n_estimators=700; total time=   8.8s\n",
      "[CV] END ....bootstrap=False, max_depth=20, n_estimators=800; total time=   9.9s\n",
      "[CV] END ....bootstrap=False, max_depth=20, n_estimators=800; total time=  10.3s\n",
      "[CV] END ....bootstrap=False, max_depth=20, n_estimators=800; total time=  10.3s\n",
      "[CV] END ....bootstrap=False, max_depth=20, n_estimators=900; total time=  11.6s\n",
      "[CV] END ....bootstrap=False, max_depth=20, n_estimators=900; total time=  11.9s\n",
      "[CV] END ....bootstrap=False, max_depth=30, n_estimators=700; total time=   9.1s\n",
      "[CV] END ....bootstrap=False, max_depth=20, n_estimators=900; total time=  12.4s\n",
      "[CV] END ....bootstrap=False, max_depth=30, n_estimators=700; total time=   9.5s\n",
      "[CV] END ....bootstrap=False, max_depth=30, n_estimators=700; total time=   9.3s\n",
      "[CV] END ....bootstrap=False, max_depth=30, n_estimators=800; total time=  10.3s\n",
      "[CV] END ....bootstrap=False, max_depth=30, n_estimators=800; total time=  10.8s\n",
      "[CV] END ....bootstrap=False, max_depth=30, n_estimators=800; total time=  10.4s\n",
      "[CV] END ....bootstrap=False, max_depth=30, n_estimators=900; total time=  11.0s\n",
      "[CV] END ....bootstrap=False, max_depth=30, n_estimators=900; total time=   9.9s\n",
      "[CV] END ....bootstrap=False, max_depth=30, n_estimators=900; total time=   9.2s\n",
      "{'bootstrap': True, 'max_depth': 20, 'n_estimators': 800}\n"
     ]
    }
   ],
   "metadata": {}
  },
  {
   "cell_type": "markdown",
   "source": [
    "## 5) 기본 설정값 vs 최적값\n",
    "- n_estimators = 800\n",
    "- max_depth = 20\n",
    "- bootstrap = True"
   ],
   "metadata": {}
  },
  {
   "cell_type": "code",
   "execution_count": 16,
   "source": [
    "from sklearn.ensemble import RandomForestRegressor\n",
    "rfr = RandomForestRegressor()\n",
    "rfr.fit(X_train, y_train)\n",
    "pred_default = rfr.predict(X_test)"
   ],
   "outputs": [],
   "metadata": {}
  },
  {
   "cell_type": "code",
   "execution_count": 17,
   "source": [
    "from sklearn.ensemble import RandomForestRegressor\n",
    "rfr = RandomForestRegressor(\n",
    "    n_estimators = 800, max_depth = 20, bootstrap = True\n",
    ")\n",
    "rfr.fit(X_train, y_train)\n",
    "pred_set = rfr.predict(X_test)"
   ],
   "outputs": [],
   "metadata": {}
  },
  {
   "cell_type": "markdown",
   "source": [
    "## 6) 결과 비교\n",
    "- R2 : 분산 기반, 1에 가까울수록 예측 정확도 높음\n",
    "- MSE : (실제값-예측값)² 평균\n",
    "- RMSE : √(MSE)\n",
    "- MAE : |실제값-예측값|"
   ],
   "metadata": {}
  },
  {
   "cell_type": "code",
   "execution_count": 18,
   "source": [
    "from sklearn.metrics import r2_score, mean_absolute_error, mean_squared_error\n",
    "# 기본 설정값\n",
    "default_R2 = r2_score(y_test, pred_default)\n",
    "default_MSE = mean_squared_error(y_test, pred_default)\n",
    "default_MAE = mean_absolute_error(y_test, pred_default)\n",
    "# 최적값\n",
    "set_R2 = r2_score(y_test, pred_set)\n",
    "set_MSE = mean_squared_error(y_test, pred_set)\n",
    "set_MAE = mean_absolute_error(y_test, pred_set)\n",
    "print('R2 Score - Default : %.2f, Set : %.2f' %(default_R2, set_R2))\n",
    "print('MSE - Default : %.2f, Set : %.2f' %(default_MSE, set_MSE))\n",
    "print('MAE - Default : %.2f, Set : %.2f' %(default_MAE, set_MAE))"
   ],
   "outputs": [
    {
     "output_type": "stream",
     "name": "stdout",
     "text": [
      "R2 Score - Default : 0.69, Set : 0.69\n",
      "MSE - Default : 8552.27, Set : 8429.55\n",
      "MAE - Default : 66.85, Set : 66.24\n"
     ]
    }
   ],
   "metadata": {}
  }
 ],
 "metadata": {
  "orig_nbformat": 4,
  "language_info": {
   "name": "python",
   "version": "3.8.2",
   "mimetype": "text/x-python",
   "codemirror_mode": {
    "name": "ipython",
    "version": 3
   },
   "pygments_lexer": "ipython3",
   "nbconvert_exporter": "python",
   "file_extension": ".py"
  },
  "kernelspec": {
   "name": "python3",
   "display_name": "Python 3.8.2 64-bit ('base': conda)"
  },
  "interpreter": {
   "hash": "dca0ade3e726a953b501b15e8e990130d2b7799f14cfd9f4271676035ebe5511"
  }
 },
 "nbformat": 4,
 "nbformat_minor": 2
}