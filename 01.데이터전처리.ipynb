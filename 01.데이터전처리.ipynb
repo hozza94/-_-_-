{
 "cells": [
  {
   "cell_type": "markdown",
   "source": [
    "# 1. 메모리 변수 제거"
   ],
   "metadata": {}
  },
  {
   "cell_type": "code",
   "execution_count": 1,
   "source": [
    "# 메모리 변수 모두 제거\n",
    "all = [var for var in globals() if var[0] != \"_\"]\n",
    "for var in all:\n",
    "    del globals()[var]"
   ],
   "outputs": [],
   "metadata": {}
  },
  {
   "cell_type": "markdown",
   "source": [
    "# 2. 사용 패키지"
   ],
   "metadata": {}
  },
  {
   "cell_type": "code",
   "execution_count": 2,
   "source": [
    "import numpy as np\n",
    "import pandas as pd\n",
    "import matplotlib.pyplot as plt\n",
    "import warnings\n",
    "warnings.filterwarnings('ignore')"
   ],
   "outputs": [],
   "metadata": {}
  },
  {
   "cell_type": "markdown",
   "source": [
    "# 3. 데이터 로드"
   ],
   "metadata": {}
  },
  {
   "cell_type": "code",
   "execution_count": 3,
   "source": [
    "train = pd.read_csv('data/train.csv') # 훈련 데이터\n",
    "test = pd.read_csv('data/test.csv') # 테스트 데이터\n",
    "submission = pd.read_csv('data/sample_submission.csv') # 미션 데이터\n",
    "lunch = pd.read_csv('data/lunch.csv') # 중식 시간대 날씨\n",
    "dinner = pd.read_csv('data/dinner.csv') # 석식 시간대 날씨\n",
    "corona = pd.read_csv('data/corona.csv') # 진주시 코로나 신규 확진자\n",
    "level = pd.read_csv('data/level.csv') # 진주시 코로나 거리두기 단계"
   ],
   "outputs": [],
   "metadata": {}
  },
  {
   "cell_type": "markdown",
   "source": [
    "# 4. 데이터 설명"
   ],
   "metadata": {}
  },
  {
   "cell_type": "markdown",
   "source": [
    "## 1) train.csv\n",
    "- 일자 : 연-월-일 (2016-02-01 ~ 2021-01-26)\n",
    "- 요일 : 월, 화, 수, 목, 금\n",
    "- 본사정원수 : 총 직원 수\n",
    "- 본사휴가자수 : 휴가 중인 인원수\n",
    "- 본사출장자수 : 본사 소속이나 타지역에 근무 중인 인원 수\n",
    "- 본사시간외근무명령서승인건수 : 해당 일자에 초과 근무한 인원 수\n",
    "- 현본사소속재택근무자수 : 재택근무하여 구내식당 이용불가한 인원 수\n",
    "- 조식메뉴 : 아침 식사 메뉴 (각 재료의 원산지)\n",
    "- 중식메뉴 : 점심 식사 메뉴 (각 재료의 원산지)\n",
    "- 석식메뉴 : 저녁 식사 메뉴 (각 재료의 원산지)\n",
    "- 중식계 : 구내식당에서 점심 식사한 인원 수\n",
    "- 석식계 : 구내식당에서 저녁 식사한 인원 수"
   ],
   "metadata": {}
  },
  {
   "cell_type": "markdown",
   "source": [
    "## 2) test.csv\n",
    "- 일자 : 연-월-일 (2021-01-27 ~ 2021-04-09)\n",
    "- 요일 : 월, 화, 수, 목, 금\n",
    "- 본사정원수 : 총 직원 수\n",
    "- 본사휴가자수 : 휴가 중인 인원수\n",
    "- 본사출장자수 : 본사 소속이나 타지역에 근무 중인 인원 수\n",
    "- 본사시간외근무명령서승인건수 : 해당 일자에 초과 근무한 인원 수\n",
    "- 현본사소속재택근무자수 : 재택근무하여 구내식당 이용불가한 인원 수\n",
    "- 조식메뉴 : 아침 식사 메뉴 (각 재료의 원산지)\n",
    "- 중식메뉴 : 점심 식사 메뉴 (각 재료의 원산지)\n",
    "- 석식메뉴 : 저녁 식사 메뉴 (각 재료의 원산지)"
   ],
   "metadata": {}
  },
  {
   "cell_type": "markdown",
   "source": [
    "## 3) sample_submission.csv\n",
    "- 일자 : 연-월-일 (2021-01-27 ~ 2021-04-09)\n",
    "- 중식계 : 구내식당에서 점심 식사할 인원 수를 예측해야함\n",
    "- 석식계 : 구내식당에서 저녁 식사할 인원 수를 예측해야함"
   ],
   "metadata": {}
  },
  {
   "cell_type": "markdown",
   "source": [
    "## 4) lunch.csv\n",
    "- 날짜 : 연-월-일 (2016-02-01 ~ 2021-04-09)\n",
    "- 체감온도 : 해당 날짜 11 ~ 13시 평균 체감온도\n",
    "- 불쾌지수 : 68미만 '낮음', 68이상 75미만 '보통', 75이상 80미만 '높음', 80이상 '매우높음'\n",
    "- 우산 : 외출할 때 우산이 필요한지 여부"
   ],
   "metadata": {}
  },
  {
   "cell_type": "markdown",
   "source": [
    "## 5) dinner.csv\n",
    "- 일자 : 연-월-일 (2016-02-01 ~ 2021-04-09)\n",
    "- 체감온도 : 해당 날짜 17 ~ 19시 평균 체감온도\n",
    "- 불쾌지수 : 68미만 '낮음', 68이상 75미만 '보통', 75이상 80미만 '높음', 80이상 '매우높음'\n",
    "- 우산 : 외출할 때 우산이 필요한지 여부"
   ],
   "metadata": {}
  },
  {
   "cell_type": "markdown",
   "source": [
    "## 6) corona.csv\n",
    "- 일자 : 연-월-일 (2020-02-28 ~ 2021-04-09)\n",
    "- 코로나신규확진자 : 해당 일자의 경상남도 진주시청 브리핑 시간 15:30 이전 신규 확진자 수"
   ],
   "metadata": {}
  },
  {
   "cell_type": "markdown",
   "source": [
    "## 7) level.csv\n",
    "- 일자 : 연-월-일 (2016-02-01 ~ 2021-04-09)\n",
    "- 2016-02-01 ~ 2020-01-26 : 평시\n",
    "- 2020-01-27 ~ 2020-11-25 : 1단계\n",
    "- 2020-11-26 ~ 2021-01-10 : 2단계 - 진주시 이통장 연수 집단 감염\n",
    "- 2021-01-11 ~ 2021-01-24 : 2.5단계 - 진주시 교회 집단 감염\n",
    "- 2021-01-25 ~ 2021-03-11 : 1.5단계 \n",
    "- 2021-03-12 ~ 2021-04-09 : 2단계 - 진주시 목욕탕 집단 감염"
   ],
   "metadata": {}
  },
  {
   "cell_type": "markdown",
   "source": [
    "# 5. 날씨 데이터 - Lunch, Dinner"
   ],
   "metadata": {}
  },
  {
   "cell_type": "markdown",
   "source": [
    "## 1) lunch.csv와 dinner.csv의 column 이름이 같음"
   ],
   "metadata": {}
  },
  {
   "cell_type": "code",
   "execution_count": 4,
   "source": [
    "lunch.rename(columns = {'날짜' : '일자', '체감온도' : '체감온도(중식)', '불쾌지수' : '불쾌지수(중식)', '우산' : '우산(중식)'}, inplace = True)\n",
    "dinner.rename(columns = {'날짜' : '일자', '체감온도' : '체감온도(석식)', '불쾌지수' : '불쾌지수(석식)', '우산' : '우산(석식)'}, inplace = True)"
   ],
   "outputs": [],
   "metadata": {}
  },
  {
   "cell_type": "markdown",
   "source": [
    "## 2) ['일자']를 기준으로 train.csv + lunch.csv"
   ],
   "metadata": {}
  },
  {
   "cell_type": "code",
   "execution_count": 5,
   "source": [
    "train = pd.merge(train, lunch, left_on = '일자', right_on = '일자', how = 'left')\n",
    "test = pd.merge(test, lunch, left_on = '일자', right_on = '일자', how = 'left')"
   ],
   "outputs": [],
   "metadata": {}
  },
  {
   "cell_type": "markdown",
   "source": [
    "## 3) ['일자']를 기준으로 train.csv + dinner.csv"
   ],
   "metadata": {}
  },
  {
   "cell_type": "code",
   "execution_count": 6,
   "source": [
    "train = pd.merge(train, dinner, left_on = '일자', right_on = '일자', how = 'left')\n",
    "test = pd.merge(test, dinner, left_on = '일자', right_on = '일자', how = 'left')"
   ],
   "outputs": [],
   "metadata": {}
  },
  {
   "cell_type": "markdown",
   "source": [
    "# 6. 코로나 데이터 - Corona"
   ],
   "metadata": {}
  },
  {
   "cell_type": "markdown",
   "source": [
    "## 1) ['일자']를 기준으로 train.csv + corona.csv"
   ],
   "metadata": {}
  },
  {
   "cell_type": "code",
   "execution_count": 7,
   "source": [
    "train = pd.merge(train, corona, left_on = '일자', right_on = '일자', how = 'left')\n",
    "test = pd.merge(test, corona, left_on = '일자', right_on = '일자', how = 'left')"
   ],
   "outputs": [],
   "metadata": {}
  },
  {
   "cell_type": "markdown",
   "source": [
    "## 2) 경상남도 진주시 코로나 첫 확진자는 2020-02-28에 발생하였으므로 그 이전 일자는 결측치"
   ],
   "metadata": {}
  },
  {
   "cell_type": "code",
   "execution_count": 8,
   "source": [
    "train = train.fillna(0)\n",
    "test = test.fillna(0)"
   ],
   "outputs": [],
   "metadata": {}
  },
  {
   "cell_type": "markdown",
   "source": [
    "# 7. 거리두기 데이터 - Level\n",
    "- 코로나 데이터만 이용하면 과대적합을 야기할 수 있음"
   ],
   "metadata": {}
  },
  {
   "cell_type": "markdown",
   "source": [
    "## 1) ['일자']를 기준으로 train.csv + level.csv"
   ],
   "metadata": {}
  },
  {
   "cell_type": "code",
   "execution_count": 9,
   "source": [
    "train = pd.merge(train, level, left_on = '일자', right_on = '일자', how = 'left')\n",
    "test = pd.merge(test, level, left_on = '일자', right_on = '일자', how = 'left')"
   ],
   "outputs": [],
   "metadata": {}
  },
  {
   "cell_type": "markdown",
   "source": [
    "# 8. 훈련 데이터 - Train"
   ],
   "metadata": {}
  },
  {
   "cell_type": "markdown",
   "source": [
    "## 1) 잘못 기록된 데이터\n",
    "- 2018-06-01 월 <- 금요일인데 데이터 잘못 기록됨"
   ],
   "metadata": {}
  },
  {
   "cell_type": "code",
   "execution_count": 10,
   "source": [
    "train.loc[train['일자'] == '2018-06-01', ('요일')] = '금'"
   ],
   "outputs": [],
   "metadata": {}
  },
  {
   "cell_type": "markdown",
   "source": [
    "## 2) Train ['휴일']"
   ],
   "metadata": {}
  },
  {
   "cell_type": "markdown",
   "source": [
    "### train 데이터셋은 평일(월화수목금)만 있음. 평일인데 [휴일]은 데이터는 빠져있음\n",
    "[2016-02-08 월, 2016-02-09 화, 2016-02-10 수, 2016-03-01 화, 2016-04-13 수,\n",
    " 2016-05-05 목, 2016-05-06 금, 2016-06-06 월, 2016-08-15 월, 2016-09-14 수,\n",
    " 2016-09-15 목, 2016-09-16 금, 2016-10-03 월, 2017-01-27 금, 2017-01-30 월,\n",
    " 2017-03-01 수, 2017-05-01 월, 2017-05-03 수, 2017-05-05 금, 2017-05-09 화,\n",
    " 2017-06-06 화, 2017-08-15 화, 2017-10-09 월, 2017-12-25 월, 2018-01-01 월,\n",
    " 2018-02-15 목, 2018-02-16 금, 2018-03-01 목, 2018-05-01 화, 2018-05-07 월,\n",
    " 2018-05-22 화, 2018-06-06 수, 2018-06-13 수, 2018-08-15 수, 2018-10-09 화,\n",
    " 2018-12-25 화, 2019-01-01 화, 2019-02-04 월, 2019-02-05 화, 2019-02-06 수,\n",
    " 2019-03-01 금, 2019-05-01 수, 2019-05-06 월, 2019-06-06 목, 2019-08-15 목,\n",
    " 2019-09-12 목, 2019-09-13 금, 2019-10-01 화, 2019-10-03 목, 2019-10-09 수,\n",
    " 2019-12-25 수, 2020-01-01 수, 2020-01-24 금, 2020-01-27 월, 2020-04-15 수,\n",
    " 2020-04-30 목, 2020-05-01 금, 2020-05-05 화, 2020-06-15 월, 2020-06-16 화,\n",
    " 2020-06-17 수, 2020-06-18 목, 2020-06-19 금, 2020-06-22 월, 2020-06-23 화,\n",
    " 2020-06-24 수, 2020-06-25 목, 2020-06-26 금, 2020-06-29 월, 2020-06-30 화,\n",
    " 2020-08-17 월, 2020-09-29 화, 2020-09-30 수, 2020-10-01 목, 2020-10-02 금,\n",
    " 2020-10-09 금, 2020-12-25 금, 2020-12-28 월, 2020-12-29 화, 2020-12-30 수,\n",
    " 2020-12-31 목, 2021-01-01 금]"
   ],
   "metadata": {}
  },
  {
   "cell_type": "markdown",
   "source": [
    "## 3) Train ['휴일전날']"
   ],
   "metadata": {}
  },
  {
   "cell_type": "markdown",
   "source": [
    "### [휴일] 하루 전 근무일은 석식 이용을 피하고 일찍 퇴근하고자하는 심리를 반영하여 [휴일전날] 생성\n",
    "[2016-02-05 금, 2016-02-29 월, 2016-04-12 화, 2016-05-04 수, 2016-06-03 금,\n",
    " 2016-08-12 금, 2016-09-13 화, 2016-09-30 금, 2017-01-26 목, 2017-01-27 금,\n",
    " 2017-02-28 화, 2017-04-28 금, 2017-05-02 화, 2017-05-04 목, 2017-05-08 월,\n",
    " 2017-06-05 월, 2017-08-14 월, 2017-10-06 금, 2017-12-22 금, 2018-12-29 금,\n",
    " 2018-02-14 수, 2018-02-28 수, 2018-04-30 월, 2018-05-04 금, 2018-05-21 월,\n",
    " 2018-06-05 화, 2018-06-12 화, 2018-08-14 화, 2018-10-08 월, 2018-12-24 월,\n",
    " 2019-12-31 월, 2019-02-01 금, 2019-02-28 목, 2019-04-30 화, 2019-05-03 금,\n",
    " 2019-06-05 수, 2019-08-14 수, 2019-09-11 수, 2019-09-30 월, 2019-10-02 수,\n",
    " 2019-10-08 화, 2019-12-24 화, 2019-12-31 화, 2020-01-23 목, 2020-01-24 금,\n",
    " 2020-04-24 화, 2020-04-29 수, 2020-05-04 월, 2020-06-12 금, 2020-08-14 금,\n",
    " 2020-09-28 월, 2020-10-08 목, 2020-12-24 목]"
   ],
   "metadata": {}
  },
  {
   "cell_type": "code",
   "execution_count": 11,
   "source": [
    "train['휴일전날'] = False"
   ],
   "outputs": [],
   "metadata": {}
  },
  {
   "cell_type": "code",
   "execution_count": 12,
   "source": [
    "before_holiday = [\n",
    "    '2016-02-05', '2016-02-29', '2016-04-12', '2016-05-04',\n",
    "    '2016-06-03', '2016-08-12', '2016-09-13', '2016-09-30',\n",
    "    '2017-01-26', '2017-01-27', '2017-02-28', '2017-04-28',\n",
    "    '2017-05-02', '2017-05-04', '2017-05-08', '2017-06-05',\n",
    "    '2017-08-14', '2017-10-06', '2017-12-22', '2018-12-29',\n",
    "    '2018-02-14', '2018-02-28', '2018-04-30', '2018-05-04',\n",
    "    '2018-05-21', '2018-06-05', '2018-06-12', '2018-08-14',\n",
    "    '2018-10-08', '2018-12-24', '2019-12-31', '2019-02-01',\n",
    "    '2019-02-28', '2019-04-30', '2019-05-03', '2019-06-05',\n",
    "    '2019-08-14', '2019-09-11', '2019-09-30', '2019-10-02',\n",
    "    '2019-10-08', '2019-12-24', '2019-12-31', '2020-01-23',\n",
    "    '2020-01-24', '2020-04-24', '2020-04-29', '2020-05-04',\n",
    "    '2020-06-12', '2020-08-14', '2020-09-28', '2020-10-08',\n",
    "    '2020-12-24'\n",
    "]\n",
    "for i in before_holiday:\n",
    "    train.loc[train['일자'] == i, ('휴일전날')] = True"
   ],
   "outputs": [],
   "metadata": {}
  },
  {
   "cell_type": "markdown",
   "source": [
    "## 4) Train ['석식메뉴']"
   ],
   "metadata": {}
  },
  {
   "cell_type": "markdown",
   "source": [
    "### 특정 일자에는 [석식메뉴] 데이터가 음식이 아니고 석식을 하지 않는 이유를 적어놓았음. 이것을 '없음'으로 변환\n",
    "[2016-11-30 수, 2016-12-28 수, 2017-01-25 수, 2017-02-22 수, 2017-03-22 수,\n",
    " 2017-04-26 수, 2017-05-31 수, 2017-06-28 수, 2017-07-26 수, 2017-09-01 금,\n",
    " 2017-09-29 금, 2017-10-25 수, 2017-11-29 수, 2017-12-27 수, 2018-01-31 수,\n",
    " 2018-02-28 수, 2018-03-28 수, 2018-04-25 수, 2018-05-30 수, 2018-06-22 금,\n",
    " 2018-06-27 수, 2018-07-25 수, 2018-08-29 수, 2018-09-19 수, 2018-10-31 수,\n",
    " 2018-11-28 수, 2018-12-26 수, 2019-01-30 수, 2019-02-27 수, 2019-03-27 수,\n",
    " 2019-04-24 수, 2019-05-29 수, 2019-06-26 수, 2019-07-31 수, 2019-08-28 수,\n",
    " 2019-09-25 수, 2019-10-30 수, 2019-11-27 수, 2019-12-31 화, 2020-01-29 수,\n",
    " 2020-02-26 수, 2020-11-25 수]"
   ],
   "metadata": {}
  },
  {
   "cell_type": "code",
   "execution_count": 13,
   "source": [
    "dinner_null = [\n",
    "    '2016-11-30', '2016-12-28', '2017-01-25', '2017-02-22',\n",
    "    '2017-03-22', '2017-04-26', '2017-05-31', '2017-06-28',\n",
    "    '2017-07-26', '2017-09-01', '2017-09-29', '2017-10-25',\n",
    "    '2017-11-29', '2017-12-27', '2018-01-31', '2018-02-28',\n",
    "    '2018-03-28', '2018-04-25', '2018-05-30', '2018-06-22',\n",
    "    '2018-06-27', '2018-07-25', '2018-08-29', '2018-09-19',\n",
    "    '2018-10-31', '2018-11-28', '2018-12-26', '2019-01-30',\n",
    "    '2019-02-27', '2019-03-27', '2019-04-24', '2019-05-29',\n",
    "    '2019-06-26', '2019-07-31', '2019-08-28', '2019-09-25',\n",
    "    '2019-10-30', '2019-11-27', '2019-12-31', '2020-01-29',\n",
    "    '2020-02-26', '2020-11-25'\n",
    "]\n",
    "for i in dinner_null:\n",
    "    train.loc[train['일자'] == i, ('석식메뉴')] = '없음'"
   ],
   "outputs": [],
   "metadata": {}
  },
  {
   "cell_type": "markdown",
   "source": [
    "# 9. 테스트 데이터 - Test"
   ],
   "metadata": {}
  },
  {
   "cell_type": "markdown",
   "source": [
    "## 1) Test ['휴일']\n",
    "[2021-02-11 목, 2021-02-12 금, 2021-03-01 월]"
   ],
   "metadata": {}
  },
  {
   "cell_type": "markdown",
   "source": [
    "## 2) Test ['휴일전날']\n",
    "[2021-02-10 수, 2021-02-26 금]"
   ],
   "metadata": {}
  },
  {
   "cell_type": "code",
   "execution_count": 14,
   "source": [
    "test['휴일전날'] = False"
   ],
   "outputs": [],
   "metadata": {}
  },
  {
   "cell_type": "code",
   "execution_count": 15,
   "source": [
    "before_holiday = [\n",
    "    '2021-02-10', '2021-02-26'\n",
    "]\n",
    "for i in before_holiday:\n",
    "    test.loc[test['일자'] == i, ('휴일전날')] = True"
   ],
   "outputs": [],
   "metadata": {}
  },
  {
   "cell_type": "markdown",
   "source": [
    "# 10. 데이터 공통 전처리 - Train, Test, Submission"
   ],
   "metadata": {}
  },
  {
   "cell_type": "markdown",
   "source": [
    "## 1) [일자]\n",
    "- [년], [월], [일]"
   ],
   "metadata": {}
  },
  {
   "cell_type": "code",
   "execution_count": 16,
   "source": [
    "def ymd(df):\n",
    "    df['일자'] = pd.to_datetime(df['일자'], format = '%Y-%m-%d')\n",
    "    df['년'] = df['일자'].dt.year\n",
    "    df['월'] = df['일자'].dt.month\n",
    "    df['일'] = df['일자'].dt.day\n",
    "    # df = df.drop('일자', axis = 1)\n",
    "    return df"
   ],
   "outputs": [],
   "metadata": {}
  },
  {
   "cell_type": "code",
   "execution_count": 17,
   "source": [
    "train = ymd(train)\n",
    "test = ymd(test)\n",
    "submission = ymd(submission)"
   ],
   "outputs": [],
   "metadata": {}
  },
  {
   "cell_type": "markdown",
   "source": [
    "## 2) [요일]"
   ],
   "metadata": {}
  },
  {
   "cell_type": "code",
   "execution_count": 18,
   "source": [
    "train['요일'] = train['요일'].map({'월' : 0, '화' : 1, '수' : 2, '목' : 3, '금' : 4})\n",
    "test['요일'] = test['요일'].map({'월' : 0, '화' : 1, '수' : 2, '목' : 3, '금' : 4})"
   ],
   "outputs": [],
   "metadata": {}
  },
  {
   "cell_type": "markdown",
   "source": [
    "## 3) [중식메뉴], [석식메뉴]\n",
    "- (원산지) 제거\n",
    "- 토큰화"
   ],
   "metadata": {}
  },
  {
   "cell_type": "code",
   "execution_count": 19,
   "source": [
    "def menu_embedding(x):\n",
    "    tmp = []\n",
    "    x = x.split(' ')\n",
    "    try:\n",
    "        for i in x:\n",
    "            if '(' in i and ':' in i and ')' in i:\n",
    "                continue\n",
    "            if '/' in i:\n",
    "                tmp.extend(i.split('/'))\n",
    "            else:\n",
    "                tmp.append(i)\n",
    "        tmp = list(set(tmp))\n",
    "        tmp.remove('')\n",
    "        return tmp\n",
    "    except:\n",
    "        return tmp"
   ],
   "outputs": [],
   "metadata": {}
  },
  {
   "cell_type": "code",
   "execution_count": 20,
   "source": [
    "train['중식메뉴_'] = train['중식메뉴'].apply(lambda x: menu_embedding(x))\n",
    "train['석식메뉴_'] = train['석식메뉴'].apply(lambda x: menu_embedding(x))\n",
    "\n",
    "test['중식메뉴_'] = test['중식메뉴'].apply(lambda x: menu_embedding(x))\n",
    "test['석식메뉴_'] = test['석식메뉴'].apply(lambda x: menu_embedding(x))"
   ],
   "outputs": [],
   "metadata": {}
  },
  {
   "cell_type": "markdown",
   "source": [
    "## 4) [식사 가능 인원] = [총 인원] - [휴가 인원] - [출장 인원] - [재택 근무 인원]"
   ],
   "metadata": {}
  },
  {
   "cell_type": "code",
   "execution_count": 21,
   "source": [
    "train['식사가능자수'] = train['본사정원수'] - train['본사휴가자수'] - train['본사출장자수'] - train['현본사소속재택근무자수']\n",
    "test['식사가능자수'] = test['본사정원수'] - test['본사휴가자수'] - test['본사출장자수'] - test['현본사소속재택근무자수']"
   ],
   "outputs": [],
   "metadata": {}
  },
  {
   "cell_type": "markdown",
   "source": [
    "## 5) [참여율] = [이용 인원] / [식사 가능 인원]"
   ],
   "metadata": {}
  },
  {
   "cell_type": "code",
   "execution_count": 22,
   "source": [
    "train['중식참여율'] = train['중식계'] / train['식사가능자수']\n",
    "train['석식참여율'] = train['석식계'] / train['식사가능자수']"
   ],
   "outputs": [],
   "metadata": {}
  },
  {
   "cell_type": "markdown",
   "source": [
    "## 6) 필요없는 컬럼 Drop"
   ],
   "metadata": {}
  },
  {
   "cell_type": "code",
   "execution_count": 23,
   "source": [
    "train = train.drop(['조식메뉴', '중식메뉴', '석식메뉴'], axis = 1)\n",
    "test = test.drop(['조식메뉴', '중식메뉴', '석식메뉴'], axis = 1)"
   ],
   "outputs": [],
   "metadata": {}
  },
  {
   "cell_type": "markdown",
   "source": [
    "## 7) 정수형으로 변환"
   ],
   "metadata": {}
  },
  {
   "cell_type": "code",
   "execution_count": 24,
   "source": [
    "columns = [\n",
    "    '본사정원수', '본사휴가자수', '본사출장자수',\n",
    "    '본사시간외근무명령서승인건수', '현본사소속재택근무자수',\n",
    "    '중식계', '석식계',\n",
    "    '식사가능자수', '코로나신규확진자', '휴일전날'\n",
    "]\n",
    "for i in columns:\n",
    "    train[i] = train[i].astype(int)\n",
    "\n",
    "columns = [\n",
    "    '본사정원수', '본사휴가자수', '본사출장자수',\n",
    "    '본사시간외근무명령서승인건수', '현본사소속재택근무자수',\n",
    "    '식사가능자수', '코로나신규확진자', '휴일전날'\n",
    "]\n",
    "for i in columns:\n",
    "    test[i] = test[i].astype(int)"
   ],
   "outputs": [],
   "metadata": {}
  },
  {
   "cell_type": "markdown",
   "source": [
    "## 8) 결측치 확인"
   ],
   "metadata": {}
  },
  {
   "cell_type": "code",
   "execution_count": 25,
   "source": [
    "train.isna().sum()"
   ],
   "outputs": [
    {
     "output_type": "execute_result",
     "data": {
      "text/plain": [
       "일자                0\n",
       "요일                0\n",
       "본사정원수             0\n",
       "본사휴가자수            0\n",
       "본사출장자수            0\n",
       "본사시간외근무명령서승인건수    0\n",
       "현본사소속재택근무자수       0\n",
       "중식계               0\n",
       "석식계               0\n",
       "체감온도(중식)          0\n",
       "불쾌지수(중식)          0\n",
       "우산(중식)            0\n",
       "체감온도(석식)          0\n",
       "불쾌지수(석식)          0\n",
       "우산(석식)            0\n",
       "코로나신규확진자          0\n",
       "거리두기단계            0\n",
       "휴일전날              0\n",
       "년                 0\n",
       "월                 0\n",
       "일                 0\n",
       "중식메뉴_             0\n",
       "석식메뉴_             0\n",
       "식사가능자수            0\n",
       "중식참여율             0\n",
       "석식참여율             0\n",
       "dtype: int64"
      ]
     },
     "metadata": {},
     "execution_count": 25
    }
   ],
   "metadata": {}
  },
  {
   "cell_type": "code",
   "execution_count": 26,
   "source": [
    "test.isna().sum()"
   ],
   "outputs": [
    {
     "output_type": "execute_result",
     "data": {
      "text/plain": [
       "일자                0\n",
       "요일                0\n",
       "본사정원수             0\n",
       "본사휴가자수            0\n",
       "본사출장자수            0\n",
       "본사시간외근무명령서승인건수    0\n",
       "현본사소속재택근무자수       0\n",
       "체감온도(중식)          0\n",
       "불쾌지수(중식)          0\n",
       "우산(중식)            0\n",
       "체감온도(석식)          0\n",
       "불쾌지수(석식)          0\n",
       "우산(석식)            0\n",
       "코로나신규확진자          0\n",
       "거리두기단계            0\n",
       "휴일전날              0\n",
       "년                 0\n",
       "월                 0\n",
       "일                 0\n",
       "중식메뉴_             0\n",
       "석식메뉴_             0\n",
       "식사가능자수            0\n",
       "dtype: int64"
      ]
     },
     "metadata": {},
     "execution_count": 26
    }
   ],
   "metadata": {}
  },
  {
   "cell_type": "markdown",
   "source": [
    "# 11. 데이터 저장\n",
    "- 전처리 완료된 데이터"
   ],
   "metadata": {}
  },
  {
   "cell_type": "markdown",
   "source": [
    "## 1) 인원 수 예측용 Train 데이터"
   ],
   "metadata": {}
  },
  {
   "cell_type": "code",
   "execution_count": 27,
   "source": [
    "train_pre = train[[\n",
    "    '일자', '년', '월', '일', '요일', '휴일전날',\n",
    "    '본사정원수', '본사휴가자수', '본사출장자수',\n",
    "    '본사시간외근무명령서승인건수', '현본사소속재택근무자수',\n",
    "    '식사가능자수',\n",
    "    '중식계', '석식계',\n",
    "    '중식참여율', '석식참여율',\n",
    "    '체감온도(중식)', '불쾌지수(중식)', '우산(중식)',\n",
    "    '체감온도(석식)', '불쾌지수(석식)', '우산(석식)',\n",
    "    '코로나신규확진자', '거리두기단계'\n",
    "]]"
   ],
   "outputs": [],
   "metadata": {}
  },
  {
   "cell_type": "code",
   "execution_count": 28,
   "source": [
    "train_pre.to_csv('data/train_pre.csv', index = False)"
   ],
   "outputs": [],
   "metadata": {}
  },
  {
   "cell_type": "markdown",
   "source": [
    "## 2) 인원 수 예측용 Test 데이터"
   ],
   "metadata": {}
  },
  {
   "cell_type": "code",
   "execution_count": 29,
   "source": [
    "test_pre = test[[\n",
    "    '일자', '년', '월', '일', '요일', '휴일전날',\n",
    "    '본사정원수', '본사휴가자수', '본사출장자수',\n",
    "    '본사시간외근무명령서승인건수', '현본사소속재택근무자수',\n",
    "    '식사가능자수',\n",
    "    '체감온도(중식)', '불쾌지수(중식)', '우산(중식)',\n",
    "    '체감온도(석식)', '불쾌지수(석식)', '우산(석식)',\n",
    "    '코로나신규확진자', '거리두기단계'\n",
    "]]"
   ],
   "outputs": [],
   "metadata": {}
  },
  {
   "cell_type": "code",
   "execution_count": 30,
   "source": [
    "test_pre.to_csv('data/test_pre.csv', index = False)"
   ],
   "outputs": [],
   "metadata": {}
  },
  {
   "cell_type": "markdown",
   "source": [
    "## 3) 메뉴 분류용 Train 데이터"
   ],
   "metadata": {}
  },
  {
   "cell_type": "code",
   "execution_count": 31,
   "source": [
    "train.rename(columns = {'중식메뉴_' : '중식메뉴'}, inplace = True)\n",
    "train.rename(columns = {'석식메뉴_' : '석식메뉴'}, inplace = True)\n",
    "train_menu = train[[\n",
    "    '일자', '년', '월', '일', '요일',\n",
    "    '휴일전날', '중식메뉴', '석식메뉴'\n",
    "]]"
   ],
   "outputs": [],
   "metadata": {}
  },
  {
   "cell_type": "code",
   "execution_count": 32,
   "source": [
    "train_menu.to_csv('data/train_menu.csv', index = False)"
   ],
   "outputs": [],
   "metadata": {}
  },
  {
   "cell_type": "markdown",
   "source": [
    "## 4) 메뉴 분류용 Test 데이터"
   ],
   "metadata": {}
  },
  {
   "cell_type": "code",
   "execution_count": 33,
   "source": [
    "test.rename(columns = {'중식메뉴_' : '중식메뉴'}, inplace = True)\n",
    "test.rename(columns = {'석식메뉴_' : '석식메뉴'}, inplace = True)\n",
    "test_menu = train[[\n",
    "    '일자', '년', '월', '일', '요일',\n",
    "    '휴일전날', '중식메뉴', '석식메뉴'\n",
    "]]"
   ],
   "outputs": [],
   "metadata": {}
  },
  {
   "cell_type": "code",
   "execution_count": 34,
   "source": [
    "test_menu.to_csv('data/test_menu.csv', index = False)"
   ],
   "outputs": [],
   "metadata": {}
  }
 ],
 "metadata": {
  "orig_nbformat": 4,
  "language_info": {
   "name": "python",
   "version": "3.8.2",
   "mimetype": "text/x-python",
   "codemirror_mode": {
    "name": "ipython",
    "version": 3
   },
   "pygments_lexer": "ipython3",
   "nbconvert_exporter": "python",
   "file_extension": ".py"
  },
  "kernelspec": {
   "name": "python3",
   "display_name": "Python 3.8.2 64-bit ('base': conda)"
  },
  "interpreter": {
   "hash": "dca0ade3e726a953b501b15e8e990130d2b7799f14cfd9f4271676035ebe5511"
  }
 },
 "nbformat": 4,
 "nbformat_minor": 2
}